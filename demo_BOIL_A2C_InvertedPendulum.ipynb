{
 "cells": [
  {
   "cell_type": "code",
   "execution_count": 1,
   "metadata": {},
   "outputs": [
    {
     "name": "stderr",
     "output_type": "stream",
     "text": [
      "WARNING: Logging before flag parsing goes to stderr.\n",
      "W1121 12:40:22.637740 17840 deprecation.py:323] From C:\\Users\\Vu\\Anaconda3\\envs\\tfgpu\\lib\\site-packages\\tensorflow\\python\\compat\\v2_compat.py:96: disable_resource_variables (from tensorflow.python.ops.variable_scope) is deprecated and will be removed in a future version.\n",
      "Instructions for updating:\n",
      "non-resource variables are not supported in the long term\n"
     ]
    }
   ],
   "source": [
    "from collections import OrderedDict\n",
    "\n",
    "import numpy as np\n",
    "import matplotlib.pyplot as plt\n",
    "\n",
    "import bayes_opt.visualization.visualization_utility_cost as viz\n",
    "from bayes_opt.test_functions import drl_experiments\n",
    "from bayes_opt.utility.basic_utility_functions import evaluating_final_util_MaxEpoch,set_seed\n",
    "from bayes_opt.curve_compression import return_logistic_curve\n",
    "\n",
    "from bayes_opt.sequentialBO.boil import BOIL\n",
    "\n",
    "from tqdm import tqdm\n",
    "import warnings\n",
    "\n",
    "\n",
    "warnings.filterwarnings(\"ignore\")\n",
    "\n",
    "#set_seed(1337)\n"
   ]
  },
  {
   "cell_type": "markdown",
   "metadata": {},
   "source": [
    "# Specifying the search space"
   ]
  },
  {
   "cell_type": "code",
   "execution_count": 2,
   "metadata": {},
   "outputs": [],
   "source": [
    "SearchSpace = OrderedDict([('gamma',(0.8,1)),(\"lr_actor\", (1e-6,1e-2)),(\"lr_critic\", (1e-6,1e-2)),\n",
    "                      ('maxEpisodes',(700, 1500))]) # 700 1500\n",
    "\n",
    "varParams = list(SearchSpace.keys())"
   ]
  },
  {
   "cell_type": "markdown",
   "metadata": {},
   "source": [
    "# These are the fixed hyperparamters for DRL"
   ]
  },
  {
   "cell_type": "code",
   "execution_count": 3,
   "metadata": {},
   "outputs": [],
   "source": [
    "fixedParams = OrderedDict([\n",
    "        (\"lr_actor\", 5e-4),\n",
    "        (\"lr_critic\", 5e-4),\n",
    "        (\"ent_coef\", 0.01),\n",
    "        (\"maxSteps\", 200),\n",
    "        (\"val_architecture\", [32,32]),\n",
    "        (\"pol_architecture\", [32,32])])"
   ]
  },
  {
   "cell_type": "markdown",
   "metadata": {},
   "source": [
    "# Initializing the Advantage Actor Critic (A2C) on InvertedPendulum-v2 environment (require Mujoco license)"
   ]
  },
  {
   "cell_type": "code",
   "execution_count": 4,
   "metadata": {},
   "outputs": [],
   "source": [
    "myfunction=drl_experiments.DRL_experiment(\"A2C\", \"InvertedPendulum-v2\", varParams, fixedParams, SearchSpace)\n"
   ]
  },
  {
   "cell_type": "markdown",
   "metadata": {},
   "source": [
    "# Initializing BOIL class"
   ]
  },
  {
   "cell_type": "code",
   "execution_count": 5,
   "metadata": {},
   "outputs": [],
   "source": [
    "acq_name='ei_mu_max'\n",
    "\n",
    "func_params={}\n",
    "func_params['function']=myfunction\n",
    "\n",
    "boil=BOIL(myfunction.func,myfunction.bounds,acq_name=acq_name,verbose=1)"
   ]
  },
  {
   "cell_type": "markdown",
   "metadata": {},
   "source": [
    "# Initializing BOIL with 10 points"
   ]
  },
  {
   "cell_type": "code",
   "execution_count": 6,
   "metadata": {},
   "outputs": [
    {
     "name": "stdout",
     "output_type": "stream",
     "text": [
      "initialization 10 points - please wait...\n"
     ]
    },
    {
     "name": "stderr",
     "output_type": "stream",
     "text": [
      "W1121 12:40:24.489398 17840 deprecation.py:506] From C:\\Users\\Vu\\Anaconda3\\envs\\tfgpu\\lib\\site-packages\\tensorflow\\python\\ops\\linalg\\linear_operator_diag.py:166: calling LinearOperator.__init__ (from tensorflow.python.ops.linalg.linear_operator) with graph_parents is deprecated and will be removed in a future version.\n",
      "Instructions for updating:\n",
      "Do not pass `graph_parents`.  They will  no longer be used.\n"
     ]
    },
    {
     "name": "stdout",
     "output_type": "stream",
     "text": [
      "Max #augmented points 10 \t #augmented points  8 \t Augmented points:  [0.    0.106 0.245 0.365 0.5   0.654 0.783 0.905]\n",
      "Max #augmented points 10 \t #augmented points  0 \t Augmented points:  []\n",
      "Max #augmented points 10 \t #augmented points  0 \t Augmented points:  []\n",
      "Max #augmented points 10 \t #augmented points  0 \t Augmented points:  []\n",
      "Max #augmented points 10 \t #augmented points  0 \t Augmented points:  []\n",
      "Max #augmented points 10 \t #augmented points  0 \t Augmented points:  []\n",
      "Max #augmented points 10 \t #augmented points  0 \t Augmented points:  []\n",
      "Max #augmented points 10 \t #augmented points  0 \t Augmented points:  []\n",
      "Max #augmented points 10 \t #augmented points  0 \t Augmented points:  []\n",
      "Max #augmented points 10 \t #augmented points  0 \t Augmented points:  []\n"
     ]
    }
   ],
   "source": [
    "n_init_points=10\n",
    "print(\"initialization {} points - please wait...\".format(n_init_points))\n",
    "boil.init(n_init_points)"
   ]
  },
  {
   "cell_type": "markdown",
   "metadata": {},
   "source": [
    "# Running BOIL over multiple iterations"
   ]
  },
  {
   "cell_type": "code",
   "execution_count": 7,
   "metadata": {},
   "outputs": [
    {
     "name": "stdout",
     "output_type": "stream",
     "text": [
      "Running BOIL for 40 iterations\n"
     ]
    },
    {
     "name": "stderr",
     "output_type": "stream",
     "text": [
      "\r",
      "  0%|                                                                                           | 0/40 [00:00<?, ?it/s]"
     ]
    },
    {
     "name": "stdout",
     "output_type": "stream",
     "text": [
      "ln of conditioning number of GP covariance matrix 9.2\n",
      "selected point from acq func: [0.2155 0.8834 0.     0.9753] acq val=log(Utility/Cost)= -1.4024\n",
      "Max #augmented points 9 \t #augmented points  0 \t Augmented points:  []\n",
      "[original scale] x=[0.8431 0.0088 0.    ] t=1480 current y=35.25, ybest=127.79\n"
     ]
    },
    {
     "name": "stderr",
     "output_type": "stream",
     "text": [
      "\r",
      "  2%|██                                                                              | 1/40 [14:10<9:12:34, 850.12s/it]"
     ]
    },
    {
     "name": "stdout",
     "output_type": "stream",
     "text": [
      "ln of conditioning number of GP covariance matrix 9.2\n",
      "selected point from acq func: [0.2156 0.8161 0.0588 1.    ] acq val=log(Utility/Cost)= -1.0862\n",
      "Max #augmented points 10 \t #augmented points  0 \t Augmented points:  []\n",
      "[original scale] x=[0.8431 0.0082 0.0006] t=1500 current y=57.13, ybest=127.79\n"
     ]
    },
    {
     "name": "stderr",
     "output_type": "stream",
     "text": [
      "\r",
      "  5%|████                                                                            | 2/40 [28:14<8:57:22, 848.48s/it]"
     ]
    },
    {
     "name": "stdout",
     "output_type": "stream",
     "text": [
      "ln of conditioning number of GP covariance matrix 9.2\n",
      "selected point from acq func: [0.1826 0.9096 0.0518 1.    ] acq val=log(Utility/Cost)= 0.7254\n",
      "Max #augmented points 10 \t #augmented points  0 \t Augmented points:  []\n",
      "[original scale] x=[0.8365 0.0091 0.0005] t=1500 current y=68.31, ybest=127.79\n"
     ]
    },
    {
     "name": "stderr",
     "output_type": "stream",
     "text": [
      "\r",
      "  8%|█████▊                                                                        | 3/40 [54:10<10:54:06, 1060.71s/it]"
     ]
    },
    {
     "name": "stdout",
     "output_type": "stream",
     "text": [
      "ln of conditioning number of GP covariance matrix 9.2\n",
      "selected point from acq func: [0.4492 0.5481 0.1373 0.8854] acq val=log(Utility/Cost)= -1.5399\n",
      "Max #augmented points 8 \t #augmented points  0 \t Augmented points:  []\n",
      "[original scale] x=[0.8898 0.0055 0.0014] t=1408 current y=97.00, ybest=127.79\n"
     ]
    },
    {
     "name": "stderr",
     "output_type": "stream",
     "text": [
      "\r",
      " 10%|███████▌                                                                    | 4/40 [1:24:07<12:48:56, 1281.56s/it]"
     ]
    },
    {
     "name": "stdout",
     "output_type": "stream",
     "text": [
      "ln of conditioning number of GP covariance matrix 9.2\n",
      "selected point from acq func: [0.3757 0.537  0.1605 1.    ] acq val=log(Utility/Cost)= -1.5236\n",
      "Max #augmented points 10 \t #augmented points  0 \t Augmented points:  []\n",
      "[original scale] x=[0.8751 0.0054 0.0016] t=1500 current y=79.60, ybest=127.79\n"
     ]
    },
    {
     "name": "stderr",
     "output_type": "stream",
     "text": [
      "\r",
      " 12%|█████████▌                                                                  | 5/40 [1:47:41<12:50:46, 1321.33s/it]"
     ]
    },
    {
     "name": "stdout",
     "output_type": "stream",
     "text": [
      "ln of conditioning number of GP covariance matrix 9.2\n",
      "selected point from acq func: [0.4556 0.6305 0.1474 1.    ] acq val=log(Utility/Cost)= -3.4403\n",
      "Max #augmented points 10 \t #augmented points  0 \t Augmented points:  []\n",
      "[original scale] x=[0.8911 0.0063 0.0015] t=1500 current y=2.35, ybest=127.79\n"
     ]
    },
    {
     "name": "stderr",
     "output_type": "stream",
     "text": [
      "\r",
      " 15%|███████████▋                                                                  | 6/40 [1:50:39<9:14:22, 978.31s/it]"
     ]
    },
    {
     "name": "stdout",
     "output_type": "stream",
     "text": [
      "ln of conditioning number of GP covariance matrix 9.2\n",
      "==estimated lengthscale_x=0.0300   lengthscale_t=0.300   Logistic_m0=3.0   Logistic_g0=2.0\n",
      "selected point from acq func: [0.437  0.5073 0.0541 1.    ] acq val=log(Utility/Cost)= -0.8152\n",
      "Max #augmented points 10 \t #augmented points  0 \t Augmented points:  []\n",
      "[original scale] x=[0.8874 0.0051 0.0005] t=1500 current y=1.80, ybest=127.79\n"
     ]
    },
    {
     "name": "stderr",
     "output_type": "stream",
     "text": [
      "\r",
      " 18%|█████████████▋                                                                | 7/40 [1:56:32<7:14:51, 790.65s/it]"
     ]
    },
    {
     "name": "stdout",
     "output_type": "stream",
     "text": [
      "ln of conditioning number of GP covariance matrix 9.4\n",
      "selected point from acq func: [0.4557 0.4991 0.6106 0.4336] acq val=log(Utility/Cost)= -4.6503\n",
      "Max #augmented points 4 \t #augmented points  0 \t Augmented points:  []\n",
      "[original scale] x=[0.8911 0.005  0.0061] t=1047 current y=0.11, ybest=127.79\n"
     ]
    },
    {
     "name": "stderr",
     "output_type": "stream",
     "text": [
      "\r",
      " 20%|███████████████▌                                                              | 8/40 [1:59:25<5:22:54, 605.45s/it]"
     ]
    },
    {
     "name": "stdout",
     "output_type": "stream",
     "text": [
      "ln of conditioning number of GP covariance matrix 9.4\n",
      "selected point from acq func: [0.1402 0.8433 0.0247 1.    ] acq val=log(Utility/Cost)= 0.1207\n",
      "Max #augmented points 10 \t #augmented points  0 \t Augmented points:  []\n",
      "[original scale] x=[0.828  0.0084 0.0002] t=1500 current y=3.24, ybest=127.79\n"
     ]
    },
    {
     "name": "stderr",
     "output_type": "stream",
     "text": [
      "\r",
      " 22%|█████████████████▌                                                            | 9/40 [2:18:39<6:37:44, 769.82s/it]"
     ]
    },
    {
     "name": "stdout",
     "output_type": "stream",
     "text": [
      "ln of conditioning number of GP covariance matrix 9.4\n",
      "selected point from acq func: [0.6668 0.913  0.0051 0.1565] acq val=log(Utility/Cost)= -12.9207\n",
      "Max #augmented points 1 \t #augmented points  0 \t Augmented points:  []\n",
      "[original scale] x=[0.9334 0.0091 0.0001] t=825 current y=0.01, ybest=127.79\n"
     ]
    },
    {
     "name": "stderr",
     "output_type": "stream",
     "text": [
      "\r",
      " 25%|███████████████████▎                                                         | 10/40 [2:19:53<4:40:34, 561.15s/it]"
     ]
    },
    {
     "name": "stdout",
     "output_type": "stream",
     "text": [
      "ln of conditioning number of GP covariance matrix 9.4\n",
      "selected point from acq func: [0.2707 0.8908 0.0812 1.    ] acq val=log(Utility/Cost)= -1.2117\n",
      "Max #augmented points 10 \t #augmented points  0 \t Augmented points:  []\n",
      "[original scale] x=[0.8541 0.0089 0.0008] t=1500 current y=2.95, ybest=127.79\n"
     ]
    },
    {
     "name": "stderr",
     "output_type": "stream",
     "text": [
      "\r",
      " 28%|█████████████████████▏                                                       | 11/40 [2:32:13<4:57:13, 614.96s/it]"
     ]
    },
    {
     "name": "stdout",
     "output_type": "stream",
     "text": [
      "ln of conditioning number of GP covariance matrix 9.4\n",
      "selected point from acq func: [0.4497 0.5289 0.1718 1.    ] acq val=log(Utility/Cost)= 0.7481\n",
      "Max #augmented points 10 \t #augmented points  0 \t Augmented points:  []\n",
      "[original scale] x=[0.8899 0.0053 0.0017] t=1500 current y=24.52, ybest=127.79\n"
     ]
    },
    {
     "name": "stderr",
     "output_type": "stream",
     "text": [
      "\r",
      " 30%|███████████████████████                                                      | 12/40 [2:42:54<4:50:33, 622.62s/it]"
     ]
    },
    {
     "name": "stdout",
     "output_type": "stream",
     "text": [
      "ln of conditioning number of GP covariance matrix 9.4\n",
      "selected point from acq func: [0.3948 0.5826 0.0913 0.8227] acq val=log(Utility/Cost)= -1.1709\n",
      "Max #augmented points 8 \t #augmented points  0 \t Augmented points:  []\n",
      "[original scale] x=[0.879  0.0058 0.0009] t=1358 current y=4.56, ybest=127.79\n"
     ]
    },
    {
     "name": "stderr",
     "output_type": "stream",
     "text": [
      "\r",
      " 32%|█████████████████████████                                                    | 13/40 [3:11:35<7:08:32, 952.30s/it]"
     ]
    },
    {
     "name": "stdout",
     "output_type": "stream",
     "text": [
      "ln of conditioning number of GP covariance matrix 9.5\n",
      "selected point from acq func: [0.5732 0.5138 0.1574 0.1863] acq val=log(Utility/Cost)= -1.6579\n",
      "Max #augmented points 1 \t #augmented points  0 \t Augmented points:  []\n",
      "[original scale] x=[0.9146 0.0051 0.0016] t=849 current y=0.01, ybest=127.79\n"
     ]
    },
    {
     "name": "stderr",
     "output_type": "stream",
     "text": [
      "\r",
      " 35%|██████████████████████████▉                                                  | 14/40 [3:20:20<5:57:01, 823.89s/it]"
     ]
    },
    {
     "name": "stdout",
     "output_type": "stream",
     "text": [
      "ln of conditioning number of GP covariance matrix 9.5\n",
      "==estimated lengthscale_x=0.0300   lengthscale_t=0.300   Logistic_m0=3.0   Logistic_g0=2.0\n",
      "selected point from acq func: [0.4447 0.7411 0.     0.    ] acq val=log(Utility/Cost)= 1.4929\n",
      "[original scale] x=[0.8889 0.0074 0.    ] t=700 current y=0.00, ybest=127.79\n"
     ]
    },
    {
     "name": "stderr",
     "output_type": "stream",
     "text": [
      "\r",
      " 38%|████████████████████████████▉                                                | 15/40 [3:23:54<4:27:01, 640.88s/it]"
     ]
    },
    {
     "name": "stdout",
     "output_type": "stream",
     "text": [
      "ln of conditioning number of GP covariance matrix 9.5\n",
      "selected point from acq func: [0.3534 0.562  0.5141 1.    ] acq val=log(Utility/Cost)= -0.7618\n",
      "Max #augmented points 10 \t #augmented points  0 \t Augmented points:  []\n",
      "[original scale] x=[0.8707 0.0056 0.0051] t=1500 current y=107.80, ybest=127.79\n"
     ]
    },
    {
     "name": "stderr",
     "output_type": "stream",
     "text": [
      "\r",
      " 40%|██████████████████████████████▍                                             | 16/40 [4:19:12<9:37:37, 1444.05s/it]"
     ]
    },
    {
     "name": "stdout",
     "output_type": "stream",
     "text": [
      "ln of conditioning number of GP covariance matrix 9.5\n",
      "selected point from acq func: [0.5291 0.7604 0.     0.7216] acq val=log(Utility/Cost)= -0.9255\n",
      "Max #augmented points 7 \t #augmented points  6 \t Augmented points:  [0.    0.124 0.285 0.379 0.526 0.602]\n",
      "[original scale] x=[0.9058 0.0076 0.    ] t=1181 current y=0.61, ybest=127.79\n"
     ]
    },
    {
     "name": "stderr",
     "output_type": "stream",
     "text": [
      "\r",
      " 42%|████████████████████████████████▎                                           | 17/40 [4:33:11<8:04:02, 1262.73s/it]"
     ]
    },
    {
     "name": "stdout",
     "output_type": "stream",
     "text": [
      "ln of conditioning number of GP covariance matrix 9.8\n",
      "selected point from acq func: [0.2724 0.5118 0.4971 1.    ] acq val=log(Utility/Cost)= -4.0835\n",
      "Max #augmented points 10 \t #augmented points  0 \t Augmented points:  []\n",
      "[original scale] x=[0.8545 0.0051 0.005 ] t=1500 current y=2.66, ybest=127.79\n"
     ]
    },
    {
     "name": "stderr",
     "output_type": "stream",
     "text": [
      "\r",
      " 45%|██████████████████████████████████▋                                          | 18/40 [4:35:04<5:36:30, 917.74s/it]"
     ]
    },
    {
     "name": "stdout",
     "output_type": "stream",
     "text": [
      "ln of conditioning number of GP covariance matrix 9.8\n",
      "selected point from acq func: [0.4148 0.6101 0.5313 1.    ] acq val=log(Utility/Cost)= -0.9427\n",
      "Max #augmented points 10 \t #augmented points  0 \t Augmented points:  []\n",
      "[original scale] x=[0.883  0.0061 0.0053] t=1500 current y=109.32, ybest=127.79\n"
     ]
    },
    {
     "name": "stderr",
     "output_type": "stream",
     "text": [
      "\r",
      " 48%|████████████████████████████████████                                        | 19/40 [5:16:32<8:06:06, 1388.87s/it]"
     ]
    },
    {
     "name": "stdout",
     "output_type": "stream",
     "text": [
      "ln of conditioning number of GP covariance matrix 9.8\n",
      "selected point from acq func: [0.2061 0.8662 0.0513 1.    ] acq val=log(Utility/Cost)= 0.0717\n",
      "Max #augmented points 10 \t #augmented points  0 \t Augmented points:  []\n",
      "[original scale] x=[0.8412 0.0087 0.0005] t=1500 current y=103.40, ybest=127.79\n"
     ]
    },
    {
     "name": "stderr",
     "output_type": "stream",
     "text": [
      "\r",
      " 50%|██████████████████████████████████████                                      | 20/40 [5:55:55<9:20:20, 1681.04s/it]"
     ]
    },
    {
     "name": "stdout",
     "output_type": "stream",
     "text": [
      "ln of conditioning number of GP covariance matrix 9.8\n",
      "selected point from acq func: [0.0989 0.8761 0.2592 1.    ] acq val=log(Utility/Cost)= -0.7145\n",
      "Max #augmented points 10 \t #augmented points  0 \t Augmented points:  []\n",
      "[original scale] x=[0.8198 0.0088 0.0026] t=1500 current y=76.91, ybest=127.79\n"
     ]
    },
    {
     "name": "stderr",
     "output_type": "stream",
     "text": [
      "\r",
      " 52%|███████████████████████████████████████▉                                    | 21/40 [6:19:54<8:29:21, 1608.50s/it]"
     ]
    },
    {
     "name": "stdout",
     "output_type": "stream",
     "text": [
      "ln of conditioning number of GP covariance matrix 9.8\n",
      "selected point from acq func: [0.4116 0.5422 0.5358 1.    ] acq val=log(Utility/Cost)= -1.7729\n",
      "Max #augmented points 10 \t #augmented points  0 \t Augmented points:  []\n",
      "[original scale] x=[0.8823 0.0054 0.0054] t=1500 current y=100.28, ybest=127.79\n"
     ]
    },
    {
     "name": "stderr",
     "output_type": "stream",
     "text": [
      "\r",
      " 55%|█████████████████████████████████████████▊                                  | 22/40 [7:01:51<9:24:16, 1880.89s/it]"
     ]
    },
    {
     "name": "stdout",
     "output_type": "stream",
     "text": [
      "ln of conditioning number of GP covariance matrix 9.8\n",
      "selected point from acq func: [0.3613 0.6253 0.5039 0.8695] acq val=log(Utility/Cost)= -2.0676\n",
      "Max #augmented points 8 \t #augmented points  0 \t Augmented points:  []\n",
      "[original scale] x=[0.8723 0.0063 0.005 ] t=1396 current y=73.11, ybest=127.79\n"
     ]
    },
    {
     "name": "stderr",
     "output_type": "stream",
     "text": [
      "\r",
      " 57%|███████████████████████████████████████████▋                                | 23/40 [7:40:00<9:27:37, 2003.37s/it]"
     ]
    },
    {
     "name": "stdout",
     "output_type": "stream",
     "text": [
      "ln of conditioning number of GP covariance matrix 9.8\n",
      "selected point from acq func: [1. 0. 1. 0.] acq val=log(Utility/Cost)= -2.8905\n",
      "[original scale] x=[1.   0.   0.01] t=700 current y=0.00, ybest=127.79\n"
     ]
    },
    {
     "name": "stderr",
     "output_type": "stream",
     "text": [
      "\r",
      " 60%|█████████████████████████████████████████████▌                              | 24/40 [7:43:28<6:30:38, 1464.90s/it]"
     ]
    },
    {
     "name": "stdout",
     "output_type": "stream",
     "text": [
      "ln of conditioning number of GP covariance matrix 9.8\n",
      "==estimated lengthscale_x=0.0300   lengthscale_t=0.300   Logistic_m0=3.0   Logistic_g0=2.0\n",
      "selected point from acq func: [0.3322 0.637  0.     0.    ] acq val=log(Utility/Cost)= 0.2277\n",
      "[original scale] x=[0.8664 0.0064 0.    ] t=700 current y=0.04, ybest=127.79\n"
     ]
    },
    {
     "name": "stderr",
     "output_type": "stream",
     "text": [
      "\r",
      " 62%|███████████████████████████████████████████████▌                            | 25/40 [8:01:00<5:35:16, 1341.07s/it]"
     ]
    },
    {
     "name": "stdout",
     "output_type": "stream",
     "text": [
      "ln of conditioning number of GP covariance matrix 9.9\n",
      "selected point from acq func: [0.7176 0.6845 0.     0.    ] acq val=log(Utility/Cost)= -2.2643\n",
      "[original scale] x=[0.9435 0.0068 0.    ] t=700 current y=0.00, ybest=127.79\n"
     ]
    },
    {
     "name": "stderr",
     "output_type": "stream",
     "text": [
      "\r",
      " 65%|█████████████████████████████████████████████████▍                          | 26/40 [8:08:55<4:12:17, 1081.26s/it]"
     ]
    },
    {
     "name": "stdout",
     "output_type": "stream",
     "text": [
      "ln of conditioning number of GP covariance matrix 9.9\n",
      "selected point from acq func: [1.     0.     0.0177 0.7918] acq val=log(Utility/Cost)= -3.0979\n",
      "Max #augmented points 7 \t #augmented points  0 \t Augmented points:  []\n",
      "[original scale] x=[1.     0.     0.0002] t=1333 current y=1.49, ybest=127.79\n"
     ]
    },
    {
     "name": "stderr",
     "output_type": "stream",
     "text": [
      "\r",
      " 68%|███████████████████████████████████████████████████▉                         | 27/40 [8:13:09<3:00:27, 832.87s/it]"
     ]
    },
    {
     "name": "stdout",
     "output_type": "stream",
     "text": [
      "ln of conditioning number of GP covariance matrix 9.9\n",
      "selected point from acq func: [0.8121 0.0391 0.4744 0.    ] acq val=log(Utility/Cost)= -3.9587\n",
      "[original scale] x=[0.9624 0.0004 0.0047] t=700 current y=0.00, ybest=127.79\n"
     ]
    },
    {
     "name": "stderr",
     "output_type": "stream",
     "text": [
      "\r",
      " 70%|█████████████████████████████████████████████████████▉                       | 28/40 [8:23:36<2:34:15, 771.26s/it]"
     ]
    },
    {
     "name": "stdout",
     "output_type": "stream",
     "text": [
      "ln of conditioning number of GP covariance matrix 9.9\n",
      "selected point from acq func: [1.     0.8597 0.5415 0.    ] acq val=log(Utility/Cost)= -3.2401\n",
      "[original scale] x=[1.     0.0086 0.0054] t=700 current y=0.00, ybest=127.79\n"
     ]
    },
    {
     "name": "stderr",
     "output_type": "stream",
     "text": [
      "\r",
      " 72%|███████████████████████████████████████████████████████▊                     | 29/40 [8:29:41<1:59:02, 649.34s/it]"
     ]
    },
    {
     "name": "stdout",
     "output_type": "stream",
     "text": [
      "ln of conditioning number of GP covariance matrix 9.9\n",
      "selected point from acq func: [0.5656 0.     0.     0.    ] acq val=log(Utility/Cost)= -3.3067\n",
      "[original scale] x=[0.9131 0.     0.    ] t=700 current y=0.00, ybest=127.79\n"
     ]
    },
    {
     "name": "stderr",
     "output_type": "stream",
     "text": [
      "\r",
      " 75%|█████████████████████████████████████████████████████████▊                   | 30/40 [8:36:04<1:34:52, 569.27s/it]"
     ]
    },
    {
     "name": "stdout",
     "output_type": "stream",
     "text": [
      "ln of conditioning number of GP covariance matrix 9.9\n",
      "selected point from acq func: [1.     0.425  0.3237 0.    ] acq val=log(Utility/Cost)= -3.3812\n",
      "[original scale] x=[1.     0.0043 0.0032] t=700 current y=0.00, ybest=127.79\n"
     ]
    },
    {
     "name": "stderr",
     "output_type": "stream",
     "text": [
      "\r",
      " 78%|███████████████████████████████████████████████████████████▋                 | 31/40 [8:38:26<1:06:12, 441.37s/it]"
     ]
    },
    {
     "name": "stdout",
     "output_type": "stream",
     "text": [
      "ln of conditioning number of GP covariance matrix 9.9\n",
      "selected point from acq func: [0.9041 0.265  0.     0.    ] acq val=log(Utility/Cost)= -3.4959\n",
      "[original scale] x=[0.9808 0.0027 0.    ] t=700 current y=0.04, ybest=127.79\n"
     ]
    },
    {
     "name": "stderr",
     "output_type": "stream",
     "text": [
      "\r",
      " 80%|█████████████████████████████████████████████████████████████▌               | 32/40 [8:53:44<1:17:54, 584.27s/it]"
     ]
    },
    {
     "name": "stdout",
     "output_type": "stream",
     "text": [
      "ln of conditioning number of GP covariance matrix 9.9\n",
      "==estimated lengthscale_x=0.0300   lengthscale_t=0.300   Logistic_m0=3.0   Logistic_g0=2.0\n",
      "selected point from acq func: [0.4675 0.632  0.     0.    ] acq val=log(Utility/Cost)= 0.1328\n",
      "[original scale] x=[0.8935 0.0063 0.    ] t=700 current y=0.04, ybest=127.79\n"
     ]
    },
    {
     "name": "stderr",
     "output_type": "stream",
     "text": [
      "\r",
      " 82%|███████████████████████████████████████████████████████████████▌             | 33/40 [9:09:13<1:20:13, 687.65s/it]"
     ]
    },
    {
     "name": "stdout",
     "output_type": "stream",
     "text": [
      "ln of conditioning number of GP covariance matrix 9.9\n",
      "selected point from acq func: [0.3689 0.5997 0.5599 1.    ] acq val=log(Utility/Cost)= -2.6681\n",
      "Max #augmented points 10 \t #augmented points  0 \t Augmented points:  []\n",
      "[original scale] x=[0.8738 0.006  0.0056] t=1500 current y=80.72, ybest=127.79\n"
     ]
    },
    {
     "name": "stderr",
     "output_type": "stream",
     "text": [
      "\r",
      " 85%|█████████████████████████████████████████████████████████████████▍           | 34/40 [9:34:36<1:33:49, 938.31s/it]"
     ]
    },
    {
     "name": "stdout",
     "output_type": "stream",
     "text": [
      "ln of conditioning number of GP covariance matrix 9.9\n",
      "selected point from acq func: [1.     1.     0.1852 0.    ] acq val=log(Utility/Cost)= -4.3764\n",
      "[original scale] x=[1.     0.01   0.0019] t=700 current y=0.00, ybest=127.79\n"
     ]
    },
    {
     "name": "stderr",
     "output_type": "stream",
     "text": [
      "\r",
      " 88%|███████████████████████████████████████████████████████████████████▍         | 35/40 [9:43:22<1:07:53, 814.68s/it]"
     ]
    },
    {
     "name": "stdout",
     "output_type": "stream",
     "text": [
      "ln of conditioning number of GP covariance matrix 9.9\n",
      "selected point from acq func: [1.     0.575  0.     0.2486] acq val=log(Utility/Cost)= -4.6493\n",
      "Max #augmented points 2 \t #augmented points  0 \t Augmented points:  []\n",
      "[original scale] x=[1.     0.0058 0.    ] t=899 current y=0.02, ybest=127.79\n"
     ]
    },
    {
     "name": "stderr",
     "output_type": "stream",
     "text": [
      "\r",
      " 90%|███████████████████████████████████████████████████████████████████████        | 36/40 [9:47:27<42:55, 643.76s/it]"
     ]
    },
    {
     "name": "stdout",
     "output_type": "stream",
     "text": [
      "ln of conditioning number of GP covariance matrix 9.9\n",
      "selected point from acq func: [1.     0.     0.2203 0.    ] acq val=log(Utility/Cost)= -4.3072\n",
      "[original scale] x=[1.     0.     0.0022] t=700 current y=0.00, ybest=127.79\n"
     ]
    },
    {
     "name": "stderr",
     "output_type": "stream",
     "text": [
      "\r",
      " 92%|█████████████████████████████████████████████████████████████████████████      | 37/40 [9:58:44<32:40, 653.60s/it]"
     ]
    },
    {
     "name": "stdout",
     "output_type": "stream",
     "text": [
      "ln of conditioning number of GP covariance matrix 9.9\n",
      "selected point from acq func: [1.     0.7088 0.2554 0.    ] acq val=log(Utility/Cost)= -5.241\n",
      "[original scale] x=[1.     0.0071 0.0026] t=700 current y=0.00, ybest=127.79\n"
     ]
    },
    {
     "name": "stderr",
     "output_type": "stream",
     "text": [
      "\r",
      " 95%|██████████████████████████████████████████████████████████████████████████    | 38/40 [10:01:00<16:36, 498.42s/it]"
     ]
    },
    {
     "name": "stdout",
     "output_type": "stream",
     "text": [
      "ln of conditioning number of GP covariance matrix 9.9\n",
      "selected point from acq func: [1.     0.3146 0.6599 0.    ] acq val=log(Utility/Cost)= -5.0712\n",
      "[original scale] x=[1.     0.0031 0.0066] t=700 current y=0.00, ybest=127.79\n"
     ]
    },
    {
     "name": "stderr",
     "output_type": "stream",
     "text": [
      "\r",
      " 98%|████████████████████████████████████████████████████████████████████████████  | 39/40 [10:01:57<06:05, 365.78s/it]"
     ]
    },
    {
     "name": "stdout",
     "output_type": "stream",
     "text": [
      "ln of conditioning number of GP covariance matrix 9.9\n",
      "selected point from acq func: [1.     1.     0.8646 0.    ] acq val=log(Utility/Cost)= -5.4989\n",
      "[original scale] x=[1.     0.01   0.0086] t=700 current y=0.00, ybest=127.79\n"
     ]
    },
    {
     "name": "stderr",
     "output_type": "stream",
     "text": [
      "100%|██████████████████████████████████████████████████████████████████████████████| 40/40 [10:03:01<00:00, 275.46s/it]\n"
     ]
    }
   ],
   "source": [
    "NN=10*myfunction.input_dim\n",
    "print(\"Running BOIL for {} iterations\".format(NN))\n",
    "strFolderOut=\"run_experiments\\plot\"\n",
    "\n",
    "for index in tqdm(range(0,NN)):\n",
    "    boil.suggest_nextpoint()\n"
   ]
  },
  {
   "cell_type": "markdown",
   "metadata": {},
   "source": [
    "# We evaluate the final performance score util MaxEpoch. The final utility score is marginalizing with different choices for the Logisic curve."
   ]
  },
  {
   "cell_type": "code",
   "execution_count": 8,
   "metadata": {},
   "outputs": [
    {
     "name": "stderr",
     "output_type": "stream",
     "text": [
      "100%|███████████████████████████████████████████████████████████████████████████████| 49/49 [00:00<00:00, 49179.44it/s]\n"
     ]
    },
    {
     "data": {
      "image/png": "[encoded data removed]",
      "text/plain": [
       "<Figure size 432x216 with 1 Axes>"
      ]
     },
     "metadata": {
      "needs_background": "light"
     },
     "output_type": "display_data"
    }
   ],
   "source": [
    "boil.Y_original=evaluating_final_util_MaxEpoch(boil)\n",
    "viz.show_optimization_progress(boil)"
   ]
  },
  {
   "cell_type": "markdown",
   "metadata": {},
   "source": [
    "# Plot the training curve of the best found hyperparameter"
   ]
  },
  {
   "cell_type": "code",
   "execution_count": 9,
   "metadata": {},
   "outputs": [
    {
     "name": "stdout",
     "output_type": "stream",
     "text": [
      "Best found hyperparameter = [0.84089045 0.0087813  0.00027485]\n"
     ]
    },
    {
     "data": {
      "text/plain": [
       "Text(0.5, 1.0, 'Training curve of best found hyperparameter')"
      ]
     },
     "execution_count": 9,
     "metadata": {},
     "output_type": "execute_result"
    },
    {
     "data": {
      "image/png": "[encoded data removed]",
      "text/plain": [
       "<Figure size 432x288 with 1 Axes>"
      ]
     },
     "metadata": {
      "needs_background": "light"
     },
     "output_type": "display_data"
    }
   ],
   "source": [
    "# select the optimal hyperparameter\n",
    "idxMax=np.argmax(boil.Y_original)\n",
    "print(\"Best found hyperparameter =\",boil.X_original[idxMax])\n",
    "\n",
    "# play the best parameter to Max Iteration\n",
    "T_max=boil.SearchSpace[-1,1]\n",
    "\n",
    "curve,time=myfunction.func([boil.X_original[idxMax,:-1],T_max])\n",
    "curve=curve[0]\n",
    "average100_curve=[np.mean( curve[max(0,n-100):n+1] )     for n in range(len(curve)) ]\n",
    "\n",
    "# plot the found curve\n",
    "fig=plt.figure()\n",
    "plt.plot(average100_curve)\n",
    "plt.xlabel('Episode',fontsize=16)\n",
    "plt.ylabel('Average Reward',fontsize=16)\n",
    "plt.title(\"Training curve of best found hyperparameter\",fontsize=18)\n"
   ]
  },
  {
   "cell_type": "markdown",
   "metadata": {},
   "source": [
    "# Play the InvertedPendulum environment using the best found hyperparameter"
   ]
  },
  {
   "cell_type": "code",
   "execution_count": 10,
   "metadata": {},
   "outputs": [
    {
     "data": {
      "text/plain": [
       "array([0.84089045, 0.0087813 , 0.00027485])"
      ]
     },
     "execution_count": 10,
     "metadata": {},
     "output_type": "execute_result"
    }
   ],
   "source": [
    "boil.X_original[idxMax]"
   ]
  },
  {
   "cell_type": "markdown",
   "metadata": {},
   "source": [
    "# Plot the Conditioning number of the GP covariance matrix"
   ]
  },
  {
   "cell_type": "code",
   "execution_count": 11,
   "metadata": {},
   "outputs": [
    {
     "data": {
      "text/plain": [
       "Text(0, 0.5, 'Log of Cond Number of Cov Matrix')"
      ]
     },
     "execution_count": 11,
     "metadata": {},
     "output_type": "execute_result"
    },
    {
     "data": {
      "image/png": "[encoded data removed]",
      "text/plain": [
       "<Figure size 360x360 with 1 Axes>"
      ]
     },
     "metadata": {
      "needs_background": "light"
     },
     "output_type": "display_data"
    }
   ],
   "source": [
    "fig=plt.figure(figsize=(5,5))\n",
    "plt.plot(np.log(boil.condition_number),linewidth=4)\n",
    "plt.xlabel('Iterations',fontsize=14)\n",
    "plt.ylabel('Log of Cond Number of Cov Matrix',fontsize=14)"
   ]
  },
  {
   "cell_type": "markdown",
   "metadata": {},
   "source": [
    "# Plot the estimated preference function"
   ]
  },
  {
   "cell_type": "code",
   "execution_count": 12,
   "metadata": {},
   "outputs": [
    {
     "data": {
      "text/plain": [
       "Text(0.5, 1.0, 'Estimated Logistic Curve $m_0$=3.0 $g_0$=2.0')"
      ]
     },
     "execution_count": 12,
     "metadata": {},
     "output_type": "execute_result"
    },
    {
     "data": {
      "image/png": "[encoded data removed]",
      "text/plain": [
       "<Figure size 504x360 with 1 Axes>"
      ]
     },
     "metadata": {
      "needs_background": "light"
     },
     "output_type": "display_data"
    }
   ],
   "source": [
    "estimated_curve=return_logistic_curve(midpoint=boil.gp.logistic_hyper['midpoint'], \n",
    "                                      growth=boil.gp.logistic_hyper['growth'],\n",
    "                                      MaxEpoch=SearchSpace['maxEpisodes'][1])\n",
    "\n",
    "fig=plt.figure(figsize=(7,5))\n",
    "plt.plot(estimated_curve,linewidth=4)\n",
    "plt.xlabel('Epochs',fontsize=14)\n",
    "plt.xlabel('Epochs',fontsize=14)\n",
    "\n",
    "strTitle=\"Estimated Logistic Curve $m_0$={:.1f} $g_0$={:.1f}\".format(boil.gp.logistic_hyper['midpoint'],boil.gp.logistic_hyper['growth'])\n",
    "plt.title(strTitle,fontsize=16)"
   ]
  }
 ],
 "metadata": {
  "kernelspec": {
   "display_name": "Python 3",
   "language": "python",
   "name": "python3"
  },
  "language_info": {
   "codemirror_mode": {
    "name": "ipython",
    "version": 3
   },
   "file_extension": ".py",
   "mimetype": "text/x-python",
   "name": "python",
   "nbconvert_exporter": "python",
   "pygments_lexer": "ipython3",
   "version": "3.6.8"
  }
 },
 "nbformat": 4,
 "nbformat_minor": 2
}
