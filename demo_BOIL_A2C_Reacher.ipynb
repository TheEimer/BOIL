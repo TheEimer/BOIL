{
 "cells": [
  {
   "cell_type": "code",
   "execution_count": 1,
   "metadata": {},
   "outputs": [
    {
     "name": "stderr",
     "output_type": "stream",
     "text": [
      "WARNING: Logging before flag parsing goes to stderr.\n",
      "W1118 09:51:59.859382  9296 deprecation.py:323] From C:\\Users\\Vu\\Anaconda3\\envs\\tfgpu\\lib\\site-packages\\tensorflow\\python\\compat\\v2_compat.py:96: disable_resource_variables (from tensorflow.python.ops.variable_scope) is deprecated and will be removed in a future version.\n",
      "Instructions for updating:\n",
      "non-resource variables are not supported in the long term\n"
     ]
    }
   ],
   "source": [
    "from collections import OrderedDict\n",
    "\n",
    "import numpy as np\n",
    "import matplotlib.pyplot as plt\n",
    "\n",
    "import bayes_opt.visualization.visualization_utility_cost as viz\n",
    "from bayes_opt.test_functions import drl_experiments\n",
    "from bayes_opt.utility.basic_utility_functions import evaluating_final_util_MaxEpoch,set_seed\n",
    "from bayes_opt.curve_compression import return_logistic_curve\n",
    "\n",
    "from bayes_opt.sequentialBO.boil import BOIL\n",
    "\n",
    "from tqdm import tqdm\n",
    "import warnings\n",
    "\n",
    "\n",
    "warnings.filterwarnings(\"ignore\")\n",
    "\n",
    "set_seed(1337)\n"
   ]
  },
  {
   "cell_type": "markdown",
   "metadata": {},
   "source": [
    "# Specifying the search space"
   ]
  },
  {
   "cell_type": "code",
   "execution_count": 2,
   "metadata": {},
   "outputs": [],
   "source": [
    "SearchSpace = OrderedDict([('gamma',(0.8,1)),(\"lr_actor\", (1e-6,1e-2)),(\"lr_critic\", (1e-6,1e-2)),\n",
    "                      ('maxEpisodes',(200, 500))])\n",
    "\n",
    "varParams = list(SearchSpace.keys())"
   ]
  },
  {
   "cell_type": "markdown",
   "metadata": {},
   "source": [
    "# These are the fixed hyperparamters for DRL"
   ]
  },
  {
   "cell_type": "code",
   "execution_count": 3,
   "metadata": {},
   "outputs": [],
   "source": [
    "fixedParams = OrderedDict([\n",
    "        (\"lr_actor\", 5e-4),\n",
    "        (\"lr_critic\", 5e-4),\n",
    "        (\"ent_coef\", 0.01),\n",
    "        (\"maxSteps\", 200),\n",
    "        (\"val_architecture\", [32,32]),\n",
    "        (\"pol_architecture\", [32,32])])"
   ]
  },
  {
   "cell_type": "markdown",
   "metadata": {},
   "source": [
    "# Initializing the Advantage Actor Critic (A2C) on Reacher-v2 environment (require Mujoco license)"
   ]
  },
  {
   "cell_type": "code",
   "execution_count": 4,
   "metadata": {},
   "outputs": [],
   "source": [
    "myfunction=drl_experiments.DRL_experiment(\"A2C\", \"Reacher-v2\", varParams, fixedParams, SearchSpace)\n"
   ]
  },
  {
   "cell_type": "markdown",
   "metadata": {},
   "source": [
    "# Initializing BOIL class"
   ]
  },
  {
   "cell_type": "code",
   "execution_count": 5,
   "metadata": {},
   "outputs": [],
   "source": [
    "acq_name='ei_mu_max'\n",
    "\n",
    "func_params={}\n",
    "func_params['function']=myfunction\n",
    "\n",
    "boil=BOIL(myfunction.func,myfunction.bounds,acq_name=acq_name,verbose=1)"
   ]
  },
  {
   "cell_type": "markdown",
   "metadata": {},
   "source": [
    "# Initializing BOIL with 10 points"
   ]
  },
  {
   "cell_type": "code",
   "execution_count": 6,
   "metadata": {},
   "outputs": [
    {
     "name": "stdout",
     "output_type": "stream",
     "text": [
      "initialization 10 points - please wait...\n"
     ]
    },
    {
     "name": "stderr",
     "output_type": "stream",
     "text": [
      "W1118 09:52:02.270612  9296 deprecation.py:506] From C:\\Users\\Vu\\Anaconda3\\envs\\tfgpu\\lib\\site-packages\\tensorflow\\python\\ops\\linalg\\linear_operator_diag.py:166: calling LinearOperator.__init__ (from tensorflow.python.ops.linalg.linear_operator) with graph_parents is deprecated and will be removed in a future version.\n",
      "Instructions for updating:\n",
      "Do not pass `graph_parents`.  They will  no longer be used.\n"
     ]
    },
    {
     "name": "stdout",
     "output_type": "stream",
     "text": [
      "Max #augmented points 10 \t #augmented points  8 \t Augmented points:  [0.    0.106 0.245 0.365 0.5   0.654 0.783 0.905]\n",
      "Max #augmented points 10 \t #augmented points  0 \t Augmented points:  []\n",
      "Max #augmented points 10 \t #augmented points  0 \t Augmented points:  []\n",
      "Max #augmented points 10 \t #augmented points  0 \t Augmented points:  []\n",
      "Max #augmented points 10 \t #augmented points  0 \t Augmented points:  []\n",
      "Max #augmented points 10 \t #augmented points  0 \t Augmented points:  []\n",
      "Max #augmented points 10 \t #augmented points  0 \t Augmented points:  []\n",
      "Max #augmented points 10 \t #augmented points  0 \t Augmented points:  []\n",
      "Max #augmented points 10 \t #augmented points  0 \t Augmented points:  []\n",
      "Max #augmented points 10 \t #augmented points  0 \t Augmented points:  []\n"
     ]
    }
   ],
   "source": [
    "n_init_points=10\n",
    "print(\"initialization {} points - please wait...\".format(n_init_points))\n",
    "boil.init(n_init_points)"
   ]
  },
  {
   "cell_type": "markdown",
   "metadata": {},
   "source": [
    "# Running BOIL over multiple iterations"
   ]
  },
  {
   "cell_type": "code",
   "execution_count": 7,
   "metadata": {},
   "outputs": [
    {
     "name": "stdout",
     "output_type": "stream",
     "text": [
      "Running BOIL for 40 iterations\n"
     ]
    },
    {
     "name": "stderr",
     "output_type": "stream",
     "text": [
      "\r",
      "  0%|                                                                                           | 0/40 [00:00<?, ?it/s]"
     ]
    },
    {
     "name": "stdout",
     "output_type": "stream",
     "text": [
      "ln of conditioning number of GP covariance matrix 9.2\n",
      "selected point from acq func: [0.8662 0.917  0.0705 0.1463] acq val=log(Utility/Cost)= -0.1973\n",
      "Max #augmented points 1 \t #augmented points  0 \t Augmented points:  []\n",
      "[original scale] x=[0.9732 0.0092 0.0007] t=244 current y=60.18, ybest=356.07\n"
     ]
    },
    {
     "name": "stderr",
     "output_type": "stream",
     "text": [
      "\r",
      "  2%|██                                                                              | 1/40 [03:16<2:07:34, 196.28s/it]"
     ]
    },
    {
     "name": "stdout",
     "output_type": "stream",
     "text": [
      "ln of conditioning number of GP covariance matrix 9.2\n",
      "selected point from acq func: [0.571 1.    0.    0.   ] acq val=log(Utility/Cost)= -0.4733\n",
      "[original scale] x=[0.9142 0.01   0.    ] t=200 current y=34.48, ybest=356.07\n"
     ]
    },
    {
     "name": "stderr",
     "output_type": "stream",
     "text": [
      "\r",
      "  5%|████                                                                            | 2/40 [05:56<1:57:26, 185.42s/it]"
     ]
    },
    {
     "name": "stdout",
     "output_type": "stream",
     "text": [
      "ln of conditioning number of GP covariance matrix 9.2\n",
      "selected point from acq func: [1. 0. 0. 0.] acq val=log(Utility/Cost)= -0.6639\n",
      "[original scale] x=[1. 0. 0.] t=200 current y=30.76, ybest=356.07\n"
     ]
    },
    {
     "name": "stderr",
     "output_type": "stream",
     "text": [
      "\r",
      "  8%|██████                                                                          | 3/40 [08:36<1:49:42, 177.91s/it]"
     ]
    },
    {
     "name": "stdout",
     "output_type": "stream",
     "text": [
      "ln of conditioning number of GP covariance matrix 9.2\n",
      "selected point from acq func: [0. 1. 0. 0.] acq val=log(Utility/Cost)= -0.7294\n",
      "[original scale] x=[0.8  0.01 0.  ] t=200 current y=37.94, ybest=356.07\n"
     ]
    },
    {
     "name": "stderr",
     "output_type": "stream",
     "text": [
      "\r",
      " 10%|████████                                                                        | 4/40 [11:17<1:43:35, 172.65s/it]"
     ]
    },
    {
     "name": "stdout",
     "output_type": "stream",
     "text": [
      "ln of conditioning number of GP covariance matrix 9.2\n",
      "selected point from acq func: [1.     0.6312 0.     0.    ] acq val=log(Utility/Cost)= -1.4418\n",
      "[original scale] x=[1.     0.0063 0.    ] t=200 current y=31.05, ybest=356.07\n"
     ]
    },
    {
     "name": "stderr",
     "output_type": "stream",
     "text": [
      "\r",
      " 12%|██████████                                                                      | 5/40 [13:57<1:38:35, 169.02s/it]"
     ]
    },
    {
     "name": "stdout",
     "output_type": "stream",
     "text": [
      "ln of conditioning number of GP covariance matrix 9.2\n",
      "selected point from acq func: [0.2794 1.     0.1625 0.    ] acq val=log(Utility/Cost)= -1.6563\n",
      "[original scale] x=[0.8559 0.01   0.0016] t=200 current y=36.55, ybest=356.07\n"
     ]
    },
    {
     "name": "stderr",
     "output_type": "stream",
     "text": [
      "\r",
      " 15%|████████████                                                                    | 6/40 [16:39<1:34:29, 166.75s/it]"
     ]
    },
    {
     "name": "stdout",
     "output_type": "stream",
     "text": [
      "ln of conditioning number of GP covariance matrix 9.2\n",
      "==estimated lengthscale_x=0.3000 lengthscale_t=0.600 Logistic midpoint=1.3 Logistic growth=0.8\n",
      "selected point from acq func: [0.     1.     0.     0.6213] acq val=log(Utility/Cost)= -1.2254\n",
      "Max #augmented points 6 \t #augmented points  4 \t Augmented points:  [0.    0.153 0.296 0.47 ]\n",
      "[original scale] x=[0.8  0.01 0.  ] t=341 current y=145.01, ybest=356.07\n"
     ]
    },
    {
     "name": "stderr",
     "output_type": "stream",
     "text": [
      "\r",
      " 18%|██████████████                                                                  | 7/40 [21:57<1:56:38, 212.09s/it]"
     ]
    },
    {
     "name": "stdout",
     "output_type": "stream",
     "text": [
      "ln of conditioning number of GP covariance matrix 10.0\n",
      "selected point from acq func: [0.0516 0.438  0.2536 1.    ] acq val=log(Utility/Cost)= -1.6142\n",
      "Max #augmented points 10 \t #augmented points  0 \t Augmented points:  []\n",
      "[original scale] x=[0.8103 0.0044 0.0025] t=500 current y=325.13, ybest=356.07\n"
     ]
    },
    {
     "name": "stderr",
     "output_type": "stream",
     "text": [
      "\r",
      " 20%|████████████████                                                                | 8/40 [28:33<2:22:39, 267.48s/it]"
     ]
    },
    {
     "name": "stdout",
     "output_type": "stream",
     "text": [
      "ln of conditioning number of GP covariance matrix 10.0\n",
      "selected point from acq func: [0.3484 0.113  0.4265 0.8413] acq val=log(Utility/Cost)= -1.8736\n",
      "Max #augmented points 8 \t #augmented points  0 \t Augmented points:  []\n",
      "[original scale] x=[0.8697 0.0011 0.0043] t=452 current y=252.38, ybest=356.07\n"
     ]
    },
    {
     "name": "stderr",
     "output_type": "stream",
     "text": [
      "\r",
      " 22%|██████████████████                                                              | 9/40 [34:34<2:32:36, 295.36s/it]"
     ]
    },
    {
     "name": "stdout",
     "output_type": "stream",
     "text": [
      "ln of conditioning number of GP covariance matrix 10.0\n",
      "selected point from acq func: [0.     0.     0.     0.6744] acq val=log(Utility/Cost)= -1.9319\n",
      "Max #augmented points 6 \t #augmented points  0 \t Augmented points:  []\n",
      "[original scale] x=[0.8 0.  0. ] t=402 current y=219.85, ybest=356.07\n"
     ]
    },
    {
     "name": "stderr",
     "output_type": "stream",
     "text": [
      "\r",
      " 25%|███████████████████▊                                                           | 10/40 [39:54<2:31:24, 302.82s/it]"
     ]
    },
    {
     "name": "stdout",
     "output_type": "stream",
     "text": [
      "ln of conditioning number of GP covariance matrix 10.0\n",
      "==estimated lengthscale_x=0.3000 lengthscale_t=0.600 Logistic midpoint=1.1 Logistic growth=0.8\n",
      "selected point from acq func: [0. 0. 0. 1.] acq val=log(Utility/Cost)= -1.779\n",
      "Max #augmented points 10 \t #augmented points  0 \t Augmented points:  []\n",
      "[original scale] x=[0.8 0.  0. ] t=500 current y=329.46, ybest=356.07\n"
     ]
    },
    {
     "name": "stderr",
     "output_type": "stream",
     "text": [
      "\r",
      " 28%|█████████████████████▋                                                         | 11/40 [46:39<2:41:12, 333.53s/it]"
     ]
    },
    {
     "name": "stdout",
     "output_type": "stream",
     "text": [
      "ln of conditioning number of GP covariance matrix 10.0\n",
      "selected point from acq func: [0. 1. 1. 0.] acq val=log(Utility/Cost)= -2.2825\n",
      "[original scale] x=[0.8  0.01 0.01] t=200 current y=30.87, ybest=356.07\n"
     ]
    },
    {
     "name": "stderr",
     "output_type": "stream",
     "text": [
      "\r",
      " 30%|███████████████████████▋                                                       | 12/40 [49:19<2:11:24, 281.60s/it]"
     ]
    },
    {
     "name": "stdout",
     "output_type": "stream",
     "text": [
      "ln of conditioning number of GP covariance matrix 10.0\n",
      "selected point from acq func: [0.3378 1.     0.1959 1.    ] acq val=log(Utility/Cost)= -2.3475\n",
      "Max #augmented points 10 \t #augmented points  5 \t Augmented points:  [0.    0.211 0.5   0.774 1.   ]\n",
      "[original scale] x=[0.8676 0.01   0.002 ] t=500 current y=313.28, ybest=356.07\n"
     ]
    },
    {
     "name": "stderr",
     "output_type": "stream",
     "text": [
      "\r",
      " 32%|█████████████████████████▋                                                     | 13/40 [55:58<2:22:31, 316.71s/it]"
     ]
    },
    {
     "name": "stdout",
     "output_type": "stream",
     "text": [
      "ln of conditioning number of GP covariance matrix 10.2\n",
      "==estimated lengthscale_x=0.3000 lengthscale_t=0.600 Logistic midpoint=0.6 Logistic growth=0.8\n",
      "selected point from acq func: [0.5389 1.     0.5602 0.    ] acq val=log(Utility/Cost)= -0.3017\n",
      "[original scale] x=[0.9078 0.01   0.0056] t=200 current y=35.35, ybest=356.07\n"
     ]
    },
    {
     "name": "stderr",
     "output_type": "stream",
     "text": [
      "\r",
      " 35%|███████████████████████████▋                                                   | 14/40 [58:46<1:57:56, 272.16s/it]"
     ]
    },
    {
     "name": "stdout",
     "output_type": "stream",
     "text": [
      "ln of conditioning number of GP covariance matrix 10.2\n",
      "selected point from acq func: [0.3027 0.     0.     1.    ] acq val=log(Utility/Cost)= -2.424\n",
      "Max #augmented points 10 \t #augmented points  0 \t Augmented points:  []\n",
      "[original scale] x=[0.8605 0.     0.    ] t=500 current y=343.05, ybest=356.07\n"
     ]
    },
    {
     "name": "stderr",
     "output_type": "stream",
     "text": [
      "\r",
      " 38%|████████████████████████████▉                                                | 15/40 [1:05:20<2:08:36, 308.67s/it]"
     ]
    },
    {
     "name": "stdout",
     "output_type": "stream",
     "text": [
      "ln of conditioning number of GP covariance matrix 10.2\n",
      "selected point from acq func: [0.7158 0.6143 0.3951 1.    ] acq val=log(Utility/Cost)= -2.6739\n",
      "Max #augmented points 10 \t #augmented points  0 \t Augmented points:  []\n",
      "[original scale] x=[0.9432 0.0061 0.004 ] t=500 current y=304.03, ybest=356.07\n"
     ]
    },
    {
     "name": "stderr",
     "output_type": "stream",
     "text": [
      "\r",
      " 40%|██████████████████████████████▊                                              | 16/40 [1:11:56<2:13:53, 334.75s/it]"
     ]
    },
    {
     "name": "stdout",
     "output_type": "stream",
     "text": [
      "ln of conditioning number of GP covariance matrix 10.2\n",
      "selected point from acq func: [1.     0.3313 1.     0.    ] acq val=log(Utility/Cost)= -2.6504\n",
      "[original scale] x=[1.     0.0033 0.01  ] t=200 current y=30.52, ybest=356.07\n"
     ]
    },
    {
     "name": "stderr",
     "output_type": "stream",
     "text": [
      "\r",
      " 42%|████████████████████████████████▋                                            | 17/40 [1:14:37<1:48:18, 282.55s/it]"
     ]
    },
    {
     "name": "stdout",
     "output_type": "stream",
     "text": [
      "ln of conditioning number of GP covariance matrix 10.2\n",
      "selected point from acq func: [0.5551 0.6868 0.8878 1.    ] acq val=log(Utility/Cost)= -2.718\n",
      "Max #augmented points 10 \t #augmented points  0 \t Augmented points:  []\n",
      "[original scale] x=[0.911  0.0069 0.0089] t=500 current y=295.51, ybest=356.07\n"
     ]
    },
    {
     "name": "stderr",
     "output_type": "stream",
     "text": [
      "\r",
      " 45%|██████████████████████████████████▋                                          | 18/40 [1:21:13<1:56:07, 316.72s/it]"
     ]
    },
    {
     "name": "stdout",
     "output_type": "stream",
     "text": [
      "ln of conditioning number of GP covariance matrix 10.2\n",
      "selected point from acq func: [0.2481 0.6917 0.2723 1.    ] acq val=log(Utility/Cost)= -2.723\n",
      "Max #augmented points 10 \t #augmented points  0 \t Augmented points:  []\n",
      "[original scale] x=[0.8496 0.0069 0.0027] t=500 current y=305.34, ybest=356.07\n"
     ]
    },
    {
     "name": "stderr",
     "output_type": "stream",
     "text": [
      "\r",
      " 48%|████████████████████████████████████▌                                        | 19/40 [1:27:48<1:59:04, 340.19s/it]"
     ]
    },
    {
     "name": "stdout",
     "output_type": "stream",
     "text": [
      "ln of conditioning number of GP covariance matrix 10.2\n",
      "selected point from acq func: [0.4968 0.3985 0.6761 1.    ] acq val=log(Utility/Cost)= -2.1877\n",
      "Max #augmented points 10 \t #augmented points  0 \t Augmented points:  []\n",
      "[original scale] x=[0.8994 0.004  0.0068] t=500 current y=325.18, ybest=356.07\n"
     ]
    },
    {
     "name": "stderr",
     "output_type": "stream",
     "text": [
      "\r",
      " 50%|██████████████████████████████████████▌                                      | 20/40 [1:34:24<1:58:58, 356.94s/it]"
     ]
    },
    {
     "name": "stdout",
     "output_type": "stream",
     "text": [
      "ln of conditioning number of GP covariance matrix 10.2\n",
      "selected point from acq func: [0.2216 0.2486 0.     1.    ] acq val=log(Utility/Cost)= -2.4337\n",
      "Max #augmented points 10 \t #augmented points  0 \t Augmented points:  []\n",
      "[original scale] x=[0.8443 0.0025 0.    ] t=500 current y=305.53, ybest=356.07\n"
     ]
    },
    {
     "name": "stderr",
     "output_type": "stream",
     "text": [
      "\r",
      " 52%|████████████████████████████████████████▍                                    | 21/40 [1:40:59<1:56:39, 368.39s/it]"
     ]
    },
    {
     "name": "stdout",
     "output_type": "stream",
     "text": [
      "ln of conditioning number of GP covariance matrix 10.3\n",
      "==estimated lengthscale_x=0.3000 lengthscale_t=0.600 Logistic midpoint=0.9 Logistic growth=1.0\n",
      "selected point from acq func: [0.     1.     0.0872 1.    ] acq val=log(Utility/Cost)= -2.3766\n",
      "Max #augmented points 10 \t #augmented points  0 \t Augmented points:  []\n",
      "[original scale] x=[0.8    0.01   0.0009] t=500 current y=340.66, ybest=356.07\n"
     ]
    },
    {
     "name": "stderr",
     "output_type": "stream",
     "text": [
      "\r",
      " 55%|██████████████████████████████████████████▎                                  | 22/40 [1:47:45<1:53:54, 379.71s/it]"
     ]
    },
    {
     "name": "stdout",
     "output_type": "stream",
     "text": [
      "ln of conditioning number of GP covariance matrix 10.3\n",
      "selected point from acq func: [1.     1.     0.8894 1.    ] acq val=log(Utility/Cost)= -2.5505\n",
      "Max #augmented points 10 \t #augmented points  0 \t Augmented points:  []\n",
      "[original scale] x=[1.     0.01   0.0089] t=500 current y=278.88, ybest=356.07\n"
     ]
    },
    {
     "name": "stderr",
     "output_type": "stream",
     "text": [
      "\r",
      " 57%|████████████████████████████████████████████▎                                | 23/40 [1:54:20<1:48:50, 384.15s/it]"
     ]
    },
    {
     "name": "stdout",
     "output_type": "stream",
     "text": [
      "ln of conditioning number of GP covariance matrix 10.3\n",
      "selected point from acq func: [0.4224 0.3318 0.3251 1.    ] acq val=log(Utility/Cost)= -2.7024\n",
      "Max #augmented points 10 \t #augmented points  0 \t Augmented points:  []\n",
      "[original scale] x=[0.8845 0.0033 0.0033] t=500 current y=326.57, ybest=356.07\n"
     ]
    },
    {
     "name": "stderr",
     "output_type": "stream",
     "text": [
      "\r",
      " 60%|██████████████████████████████████████████████▏                              | 24/40 [2:00:54<1:43:16, 387.28s/it]"
     ]
    },
    {
     "name": "stdout",
     "output_type": "stream",
     "text": [
      "ln of conditioning number of GP covariance matrix 10.3\n",
      "selected point from acq func: [0.     0.1843 0.511  1.    ] acq val=log(Utility/Cost)= -1.7932\n",
      "Max #augmented points 10 \t #augmented points  0 \t Augmented points:  []\n",
      "[original scale] x=[0.8    0.0018 0.0051] t=500 current y=328.20, ybest=356.07\n"
     ]
    },
    {
     "name": "stderr",
     "output_type": "stream",
     "text": [
      "\r",
      " 62%|████████████████████████████████████████████████▏                            | 25/40 [2:07:29<1:37:21, 389.42s/it]"
     ]
    },
    {
     "name": "stdout",
     "output_type": "stream",
     "text": [
      "ln of conditioning number of GP covariance matrix 10.3\n",
      "selected point from acq func: [0. 0. 1. 0.] acq val=log(Utility/Cost)= -2.3391\n",
      "[original scale] x=[0.8  0.   0.01] t=200 current y=20.78, ybest=356.07\n"
     ]
    },
    {
     "name": "stderr",
     "output_type": "stream",
     "text": [
      "\r",
      " 65%|██████████████████████████████████████████████████                           | 26/40 [2:10:09<1:14:47, 320.56s/it]"
     ]
    },
    {
     "name": "stdout",
     "output_type": "stream",
     "text": [
      "ln of conditioning number of GP covariance matrix 10.3\n",
      "selected point from acq func: [0.2726 0.4427 0.6335 1.    ] acq val=log(Utility/Cost)= -2.9916\n",
      "Max #augmented points 10 \t #augmented points  0 \t Augmented points:  []\n",
      "[original scale] x=[0.8545 0.0044 0.0063] t=500 current y=341.56, ybest=356.07\n"
     ]
    },
    {
     "name": "stderr",
     "output_type": "stream",
     "text": [
      "\r",
      " 68%|███████████████████████████████████████████████████▉                         | 27/40 [2:16:43<1:14:16, 342.79s/it]"
     ]
    },
    {
     "name": "stdout",
     "output_type": "stream",
     "text": [
      "ln of conditioning number of GP covariance matrix 10.3\n",
      "selected point from acq func: [1.     0.6037 1.     1.    ] acq val=log(Utility/Cost)= -3.1332\n",
      "Max #augmented points 10 \t #augmented points  6 \t Augmented points:  [0.    0.158 0.356 0.513 0.718 0.842]\n",
      "[original scale] x=[1.    0.006 0.01 ] t=453 current y=243.98, ybest=356.07\n"
     ]
    },
    {
     "name": "stderr",
     "output_type": "stream",
     "text": [
      "\r",
      " 70%|█████████████████████████████████████████████████████▉                       | 28/40 [2:23:14<1:11:25, 357.10s/it]"
     ]
    },
    {
     "name": "stdout",
     "output_type": "stream",
     "text": [
      "ln of conditioning number of GP covariance matrix 10.3\n",
      "selected point from acq func: [0.     0.     0.2534 1.    ] acq val=log(Utility/Cost)= -2.6818\n",
      "Max #augmented points 10 \t #augmented points  0 \t Augmented points:  []\n",
      "[original scale] x=[0.8    0.     0.0025] t=500 current y=340.50, ybest=356.07\n"
     ]
    },
    {
     "name": "stderr",
     "output_type": "stream",
     "text": [
      "\r",
      " 72%|███████████████████████████████████████████████████████▊                     | 29/40 [2:29:48<1:07:31, 368.35s/it]"
     ]
    },
    {
     "name": "stdout",
     "output_type": "stream",
     "text": [
      "ln of conditioning number of GP covariance matrix 10.3\n",
      "selected point from acq func: [1. 0. 1. 1.] acq val=log(Utility/Cost)= -3.5166\n",
      "Max #augmented points 10 \t #augmented points  7 \t Augmented points:  [0.    0.153 0.339 0.505 0.713 0.842 1.   ]\n",
      "[original scale] x=[1.   0.   0.01] t=500 current y=275.22, ybest=356.07\n"
     ]
    },
    {
     "name": "stderr",
     "output_type": "stream",
     "text": [
      "\r",
      " 75%|█████████████████████████████████████████████████████████▊                   | 30/40 [2:36:23<1:02:42, 376.25s/it]"
     ]
    },
    {
     "name": "stdout",
     "output_type": "stream",
     "text": [
      "ln of conditioning number of GP covariance matrix 10.3\n",
      "selected point from acq func: [0.4224 0.4942 0.5893 0.7394] acq val=log(Utility/Cost)= -3.77\n",
      "Max #augmented points 7 \t #augmented points  0 \t Augmented points:  []\n",
      "[original scale] x=[0.8845 0.0049 0.0059] t=422 current y=257.42, ybest=356.07\n"
     ]
    },
    {
     "name": "stderr",
     "output_type": "stream",
     "text": [
      "\r",
      " 78%|█████████████████████████████████████████████████████████████▏                 | 31/40 [2:41:56<54:29, 363.31s/it]"
     ]
    },
    {
     "name": "stdout",
     "output_type": "stream",
     "text": [
      "ln of conditioning number of GP covariance matrix 10.3\n",
      "selected point from acq func: [0.     0.79   0.0005 1.    ] acq val=log(Utility/Cost)= -3.018\n",
      "Max #augmented points 10 \t #augmented points  0 \t Augmented points:  []\n",
      "[original scale] x=[0.8    0.0079 0.    ] t=500 current y=334.95, ybest=356.07\n"
     ]
    },
    {
     "name": "stderr",
     "output_type": "stream",
     "text": [
      "\r",
      " 80%|███████████████████████████████████████████████████████████████▏               | 32/40 [2:48:31<49:42, 372.76s/it]"
     ]
    },
    {
     "name": "stdout",
     "output_type": "stream",
     "text": [
      "ln of conditioning number of GP covariance matrix 10.3\n",
      "==estimated lengthscale_x=0.3000 lengthscale_t=0.600 Logistic midpoint=0.9 Logistic growth=1.0\n",
      "selected point from acq func: [0.5382 1.     0.311  0.    ] acq val=log(Utility/Cost)= -0.1731\n",
      "[original scale] x=[0.9076 0.01   0.0031] t=200 current y=17.88, ybest=356.07\n"
     ]
    },
    {
     "name": "stderr",
     "output_type": "stream",
     "text": [
      "\r",
      " 82%|█████████████████████████████████████████████████████████████████▏             | 33/40 [2:51:29<36:39, 314.26s/it]"
     ]
    },
    {
     "name": "stdout",
     "output_type": "stream",
     "text": [
      "ln of conditioning number of GP covariance matrix 10.3\n",
      "selected point from acq func: [0.2111 0.317  0.4184 1.    ] acq val=log(Utility/Cost)= -3.5169\n",
      "Max #augmented points 10 \t #augmented points  0 \t Augmented points:  []\n",
      "[original scale] x=[0.8422 0.0032 0.0042] t=500 current y=318.99, ybest=356.07\n"
     ]
    },
    {
     "name": "stderr",
     "output_type": "stream",
     "text": [
      "\r",
      " 85%|███████████████████████████████████████████████████████████████████▏           | 34/40 [2:58:03<33:50, 338.40s/it]"
     ]
    },
    {
     "name": "stdout",
     "output_type": "stream",
     "text": [
      "ln of conditioning number of GP covariance matrix 10.4\n",
      "selected point from acq func: [0.     0.4192 1.     1.    ] acq val=log(Utility/Cost)= -2.5139\n",
      "Max #augmented points 10 \t #augmented points  0 \t Augmented points:  []\n",
      "[original scale] x=[0.8    0.0042 0.01  ] t=500 current y=339.46, ybest=356.07\n"
     ]
    },
    {
     "name": "stderr",
     "output_type": "stream",
     "text": [
      "\r",
      " 88%|█████████████████████████████████████████████████████████████████████▏         | 35/40 [3:04:38<29:36, 355.34s/it]"
     ]
    },
    {
     "name": "stdout",
     "output_type": "stream",
     "text": [
      "ln of conditioning number of GP covariance matrix 10.4\n",
      "selected point from acq func: [0.     0.0682 1.     1.    ] acq val=log(Utility/Cost)= -2.9841\n",
      "Max #augmented points 10 \t #augmented points  5 \t Augmented points:  [0.    0.202 0.49  0.768 1.   ]\n",
      "[original scale] x=[0.8    0.0007 0.01  ] t=500 current y=335.23, ybest=356.07\n"
     ]
    },
    {
     "name": "stderr",
     "output_type": "stream",
     "text": [
      "\r",
      " 90%|███████████████████████████████████████████████████████████████████████        | 36/40 [3:11:13<24:29, 367.26s/it]"
     ]
    },
    {
     "name": "stdout",
     "output_type": "stream",
     "text": [
      "ln of conditioning number of GP covariance matrix 10.4\n",
      "selected point from acq func: [0.4774 0.5712 0.6082 1.    ] acq val=log(Utility/Cost)= -3.2675\n",
      "Max #augmented points 10 \t #augmented points  0 \t Augmented points:  []\n",
      "[original scale] x=[0.8955 0.0057 0.0061] t=500 current y=339.75, ybest=356.07\n"
     ]
    },
    {
     "name": "stderr",
     "output_type": "stream",
     "text": [
      "\r",
      " 92%|█████████████████████████████████████████████████████████████████████████      | 37/40 [3:17:48<18:46, 375.50s/it]"
     ]
    },
    {
     "name": "stdout",
     "output_type": "stream",
     "text": [
      "ln of conditioning number of GP covariance matrix 10.4\n",
      "selected point from acq func: [0.238  0.3731 1.     1.    ] acq val=log(Utility/Cost)= -2.6082\n",
      "Max #augmented points 10 \t #augmented points  0 \t Augmented points:  []\n",
      "[original scale] x=[0.8476 0.0037 0.01  ] t=500 current y=340.55, ybest=356.07\n"
     ]
    },
    {
     "name": "stderr",
     "output_type": "stream",
     "text": [
      "\r",
      " 95%|███████████████████████████████████████████████████████████████████████████    | 38/40 [3:24:20<12:40, 380.45s/it]"
     ]
    },
    {
     "name": "stdout",
     "output_type": "stream",
     "text": [
      "ln of conditioning number of GP covariance matrix 10.4\n",
      "selected point from acq func: [0.     0.281  0.8642 1.    ] acq val=log(Utility/Cost)= -2.909\n",
      "Max #augmented points 10 \t #augmented points  0 \t Augmented points:  []\n",
      "[original scale] x=[0.8    0.0028 0.0086] t=500 current y=320.27, ybest=356.07\n"
     ]
    },
    {
     "name": "stderr",
     "output_type": "stream",
     "text": [
      "\r",
      " 98%|█████████████████████████████████████████████████████████████████████████████  | 39/40 [3:30:55<06:24, 384.71s/it]"
     ]
    },
    {
     "name": "stdout",
     "output_type": "stream",
     "text": [
      "ln of conditioning number of GP covariance matrix 10.4\n",
      "selected point from acq func: [0.1917 0.6357 1.     1.    ] acq val=log(Utility/Cost)= -2.3863\n",
      "Max #augmented points 10 \t #augmented points  0 \t Augmented points:  []\n",
      "[original scale] x=[0.8383 0.0064 0.01  ] t=500 current y=330.97, ybest=356.07\n"
     ]
    },
    {
     "name": "stderr",
     "output_type": "stream",
     "text": [
      "100%|███████████████████████████████████████████████████████████████████████████████| 40/40 [3:37:29<00:00, 387.51s/it]\n"
     ]
    }
   ],
   "source": [
    "NN=10*myfunction.input_dim\n",
    "print(\"Running BOIL for {} iterations\".format(NN))\n",
    "strFolderOut=\"run_experiments\\plot\"\n",
    "\n",
    "for index in tqdm(range(0,NN)):\n",
    "    boil.suggest_nextpoint()\n"
   ]
  },
  {
   "cell_type": "markdown",
   "metadata": {},
   "source": [
    "# We evaluate the final performance score util MaxEpoch. The final utility score is marginalizing with different choices for the Logisic curve."
   ]
  },
  {
   "cell_type": "code",
   "execution_count": 8,
   "metadata": {},
   "outputs": [
    {
     "name": "stderr",
     "output_type": "stream",
     "text": [
      "100%|██████████████████████████████████████████████████████████████████████████████████████████| 49/49 [00:00<?, ?it/s]\n"
     ]
    },
    {
     "data": {
      "image/png": "[encoded data removed]",
      "text/plain": [
       "<Figure size 432x216 with 1 Axes>"
      ]
     },
     "metadata": {
      "needs_background": "light"
     },
     "output_type": "display_data"
    }
   ],
   "source": [
    "boil.Y_original=evaluating_final_util_MaxEpoch(boil)\n",
    "viz.show_optimization_progress(boil)"
   ]
  },
  {
   "cell_type": "markdown",
   "metadata": {},
   "source": [
    "# Plot the training curve of the best found hyperparameter"
   ]
  },
  {
   "cell_type": "code",
   "execution_count": 9,
   "metadata": {},
   "outputs": [
    {
     "name": "stdout",
     "output_type": "stream",
     "text": [
      "Best found hyperparameter = [1.       0.000001 0.000001]\n"
     ]
    },
    {
     "data": {
      "text/plain": [
       "Text(0.5, 1.0, 'Training curve of best found hyperparameter')"
      ]
     },
     "execution_count": 9,
     "metadata": {},
     "output_type": "execute_result"
    },
    {
     "data": {
      "image/png": "[encoded data removed]",
      "text/plain": [
       "<Figure size 432x288 with 1 Axes>"
      ]
     },
     "metadata": {
      "needs_background": "light"
     },
     "output_type": "display_data"
    }
   ],
   "source": [
    "# select the optimal hyperparameter\n",
    "idxMax=np.argmax(boil.Y_original)\n",
    "print(\"Best found hyperparameter =\",boil.X_original[idxMax])\n",
    "\n",
    "# play the best parameter to Max Iteration\n",
    "T_max=boil.SearchSpace[-1,1]\n",
    "\n",
    "curve,time=myfunction.func([boil.X_original[idxMax,:-1],T_max])\n",
    "curve=curve[0]\n",
    "average100_curve=[np.mean( curve[max(0,n-100):n+1] )     for n in range(len(curve)) ]\n",
    "\n",
    "# plot the found curve\n",
    "fig=plt.figure()\n",
    "plt.plot(average100_curve)\n",
    "plt.xlabel('Episode',fontsize=16)\n",
    "plt.ylabel('Average Reward',fontsize=16)\n",
    "plt.title(\"Training curve of best found hyperparameter\",fontsize=18)\n"
   ]
  },
  {
   "cell_type": "markdown",
   "metadata": {},
   "source": [
    "# Play the Reacher environment using the best found hyperparameter"
   ]
  },
  {
   "cell_type": "code",
   "execution_count": 10,
   "metadata": {},
   "outputs": [
    {
     "data": {
      "text/plain": [
       "array([1.      , 0.000001, 0.000001])"
      ]
     },
     "execution_count": 10,
     "metadata": {},
     "output_type": "execute_result"
    }
   ],
   "source": [
    "boil.X_original[idxMax]"
   ]
  },
  {
   "cell_type": "markdown",
   "metadata": {},
   "source": [
    "# Plot the Conditioning number of the GP covariance matrix"
   ]
  },
  {
   "cell_type": "code",
   "execution_count": 11,
   "metadata": {},
   "outputs": [
    {
     "data": {
      "text/plain": [
       "Text(0, 0.5, 'Log of Cond Number of Cov Matrix')"
      ]
     },
     "execution_count": 11,
     "metadata": {},
     "output_type": "execute_result"
    },
    {
     "data": {
      "image/png": "[encoded data removed]",
      "text/plain": [
       "<Figure size 360x360 with 1 Axes>"
      ]
     },
     "metadata": {
      "needs_background": "light"
     },
     "output_type": "display_data"
    }
   ],
   "source": [
    "fig=plt.figure(figsize=(5,5))\n",
    "plt.plot(np.log(boil.condition_number),linewidth=4)\n",
    "plt.xlabel('Iterations',fontsize=14)\n",
    "plt.ylabel('Log of Cond Number of Cov Matrix',fontsize=14)"
   ]
  },
  {
   "cell_type": "markdown",
   "metadata": {},
   "source": [
    "# Plot the estimated preference function"
   ]
  },
  {
   "cell_type": "code",
   "execution_count": 12,
   "metadata": {},
   "outputs": [
    {
     "data": {
      "text/plain": [
       "Text(0.5, 1.0, 'Estimated Logistic Curve $m_0$=0.9 $g_0$=1.0')"
      ]
     },
     "execution_count": 12,
     "metadata": {},
     "output_type": "execute_result"
    },
    {
     "data": {
      "image/png": "[encoded data removed]",
      "text/plain": [
       "<Figure size 504x360 with 1 Axes>"
      ]
     },
     "metadata": {
      "needs_background": "light"
     },
     "output_type": "display_data"
    }
   ],
   "source": [
    "estimated_curve=return_logistic_curve(midpoint=boil.gp.logistic_hyper['midpoint'], \n",
    "                                      growth=boil.gp.logistic_hyper['growth'],\n",
    "                                      MaxEpoch=SearchSpace['maxEpisodes'][1])\n",
    "\n",
    "fig=plt.figure(figsize=(7,5))\n",
    "plt.plot(estimated_curve,linewidth=4)\n",
    "plt.xlabel('Epochs',fontsize=14)\n",
    "plt.xlabel('Epochs',fontsize=14)\n",
    "\n",
    "strTitle=\"Estimated Logistic Curve $m_0$={:.1f} $g_0$={:.1f}\".format(boil.gp.logistic_hyper['midpoint'],boil.gp.logistic_hyper['growth'])\n",
    "plt.title(strTitle,fontsize=16)"
   ]
  }
 ],
 "metadata": {
  "kernelspec": {
   "display_name": "Python 3",
   "language": "python",
   "name": "python3"
  },
  "language_info": {
   "codemirror_mode": {
    "name": "ipython",
    "version": 3
   },
   "file_extension": ".py",
   "mimetype": "text/x-python",
   "name": "python",
   "nbconvert_exporter": "python",
   "pygments_lexer": "ipython3",
   "version": "3.6.8"
  }
 },
 "nbformat": 4,
 "nbformat_minor": 2
}
