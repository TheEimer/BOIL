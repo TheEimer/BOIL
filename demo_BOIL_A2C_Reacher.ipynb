{
 "cells": [
  {
   "cell_type": "code",
   "execution_count": 1,
   "metadata": {},
   "outputs": [
    {
     "name": "stderr",
     "output_type": "stream",
     "text": [
      "WARNING: Logging before flag parsing goes to stderr.\n",
      "W1116 16:26:25.371580  1232 deprecation.py:323] From C:\\Users\\Vu\\Anaconda3\\envs\\tfgpu\\lib\\site-packages\\tensorflow\\python\\compat\\v2_compat.py:96: disable_resource_variables (from tensorflow.python.ops.variable_scope) is deprecated and will be removed in a future version.\n",
      "Instructions for updating:\n",
      "non-resource variables are not supported in the long term\n"
     ]
    }
   ],
   "source": [
    "from collections import OrderedDict\n",
    "\n",
    "import numpy as np\n",
    "import matplotlib.pyplot as plt\n",
    "\n",
    "import bayes_opt.visualization.visualization_utility_cost as viz\n",
    "from bayes_opt.test_functions import drl_experiments\n",
    "from bayes_opt.utility.basic_utility_functions import evaluating_final_util_MaxEpoch,set_seed\n",
    "from bayes_opt.curve_compression import return_logistic_curve\n",
    "\n",
    "from bayes_opt.sequentialBO.boil import BOIL\n",
    "\n",
    "from tqdm import tqdm\n",
    "import warnings\n",
    "\n",
    "\n",
    "warnings.filterwarnings(\"ignore\")\n",
    "\n",
    "set_seed(1337)\n"
   ]
  },
  {
   "cell_type": "markdown",
   "metadata": {},
   "source": [
    "# Specifying the search space"
   ]
  },
  {
   "cell_type": "code",
   "execution_count": 2,
   "metadata": {},
   "outputs": [],
   "source": [
    "SearchSpace = OrderedDict([('gamma',(0.8,1)),(\"lr_actor\", (1e-6,1e-2)),(\"lr_critic\", (1e-6,1e-2)),\n",
    "                      ('maxEpisodes',(200, 500))])\n",
    "\n",
    "varParams = list(SearchSpace.keys())"
   ]
  },
  {
   "cell_type": "markdown",
   "metadata": {},
   "source": [
    "# These are the fixed hyperparamters for DRL"
   ]
  },
  {
   "cell_type": "code",
   "execution_count": 3,
   "metadata": {},
   "outputs": [],
   "source": [
    "fixedParams = OrderedDict([\n",
    "        (\"lr_actor\", 5e-4),\n",
    "        (\"lr_critic\", 5e-4),\n",
    "        (\"ent_coef\", 0.01),\n",
    "        (\"maxSteps\", 200),\n",
    "        (\"val_architecture\", [32,32]),\n",
    "        (\"pol_architecture\", [32,32])])"
   ]
  },
  {
   "cell_type": "markdown",
   "metadata": {},
   "source": [
    "# Initializing the Advantage Actor Critic (A2C) on Reacher-v2 environment (require Mujoco license)"
   ]
  },
  {
   "cell_type": "code",
   "execution_count": 4,
   "metadata": {},
   "outputs": [],
   "source": [
    "myfunction=drl_experiments.DRL_experiment(\"A2C\", \"Reacher-v2\", varParams, fixedParams, SearchSpace)\n"
   ]
  },
  {
   "cell_type": "markdown",
   "metadata": {},
   "source": [
    "# Initializing BOIL class"
   ]
  },
  {
   "cell_type": "code",
   "execution_count": 5,
   "metadata": {},
   "outputs": [],
   "source": [
    "acq_name='ei_mu_max'\n",
    "\n",
    "func_params={}\n",
    "func_params['function']=myfunction\n",
    "\n",
    "boil=BOIL(myfunction.func,myfunction.bounds,acq_name=acq_name,verbose=1)"
   ]
  },
  {
   "cell_type": "markdown",
   "metadata": {},
   "source": [
    "# Initializing BOIL with 10 points"
   ]
  },
  {
   "cell_type": "code",
   "execution_count": 6,
   "metadata": {},
   "outputs": [
    {
     "name": "stdout",
     "output_type": "stream",
     "text": [
      "initialization 10 points - please wait...\n"
     ]
    },
    {
     "name": "stderr",
     "output_type": "stream",
     "text": [
      "W1116 16:26:27.589440  1232 deprecation.py:506] From C:\\Users\\Vu\\Anaconda3\\envs\\tfgpu\\lib\\site-packages\\tensorflow\\python\\ops\\linalg\\linear_operator_diag.py:166: calling LinearOperator.__init__ (from tensorflow.python.ops.linalg.linear_operator) with graph_parents is deprecated and will be removed in a future version.\n",
      "Instructions for updating:\n",
      "Do not pass `graph_parents`.  They will  no longer be used.\n"
     ]
    },
    {
     "name": "stdout",
     "output_type": "stream",
     "text": [
      "Max #augmented points 10 \t #augmented points  9 \t Augmented points:  [0.    0.098 0.206 0.349 0.5   0.637 0.761 0.9   1.   ]\n",
      "Max #augmented points 10 \t #augmented points  0 \t Augmented points:  []\n",
      "Max #augmented points 10 \t #augmented points  0 \t Augmented points:  []\n",
      "Max #augmented points 10 \t #augmented points  0 \t Augmented points:  []\n",
      "Max #augmented points 10 \t #augmented points  0 \t Augmented points:  []\n",
      "Max #augmented points 10 \t #augmented points  0 \t Augmented points:  []\n",
      "Max #augmented points 10 \t #augmented points  0 \t Augmented points:  []\n",
      "Max #augmented points 10 \t #augmented points  0 \t Augmented points:  []\n",
      "Max #augmented points 10 \t #augmented points  0 \t Augmented points:  []\n",
      "Max #augmented points 10 \t #augmented points  0 \t Augmented points:  []\n"
     ]
    }
   ],
   "source": [
    "n_init_points=10\n",
    "print(\"initialization {} points - please wait...\".format(n_init_points))\n",
    "boil.init(n_init_points)"
   ]
  },
  {
   "cell_type": "markdown",
   "metadata": {},
   "source": [
    "# Running BOIL over multiple iterations"
   ]
  },
  {
   "cell_type": "code",
   "execution_count": 7,
   "metadata": {},
   "outputs": [
    {
     "name": "stdout",
     "output_type": "stream",
     "text": [
      "Running BOIL for 40 iterations\n"
     ]
    },
    {
     "name": "stderr",
     "output_type": "stream",
     "text": [
      "\r",
      "  0%|                                                                                           | 0/40 [00:00<?, ?it/s]"
     ]
    },
    {
     "name": "stdout",
     "output_type": "stream",
     "text": [
      "ln of conditioning number of GP covariance matrix 10.9\n",
      "selected point from acq func: [0.3617 0.5062 0.4237 0.0028] acq val=log(Utility/Cost)= -0.0955\n",
      "[original scale] x=[0.8723 0.0051 0.0042] t=201 current y=35.59, ybest=356.07\n"
     ]
    },
    {
     "name": "stderr",
     "output_type": "stream",
     "text": [
      "\r",
      "  2%|██                                                                              | 1/40 [02:41<1:45:03, 161.64s/it]"
     ]
    },
    {
     "name": "stdout",
     "output_type": "stream",
     "text": [
      "ln of conditioning number of GP covariance matrix 10.9\n",
      "selected point from acq func: [0.9811 0.579  0.0034 0.    ] acq val=log(Utility/Cost)= -0.2053\n",
      "[original scale] x=[0.9962 0.0058 0.    ] t=200 current y=30.97, ybest=356.07\n"
     ]
    },
    {
     "name": "stderr",
     "output_type": "stream",
     "text": [
      "\r",
      "  5%|████                                                                            | 2/40 [05:22<1:42:10, 161.32s/it]"
     ]
    },
    {
     "name": "stdout",
     "output_type": "stream",
     "text": [
      "ln of conditioning number of GP covariance matrix 10.9\n",
      "selected point from acq func: [0. 1. 0. 0.] acq val=log(Utility/Cost)= -0.6137\n",
      "[original scale] x=[0.8  0.01 0.  ] t=200 current y=36.59, ybest=356.07\n"
     ]
    },
    {
     "name": "stderr",
     "output_type": "stream",
     "text": [
      "\r",
      "  8%|██████                                                                          | 3/40 [08:01<1:39:06, 160.71s/it]"
     ]
    },
    {
     "name": "stdout",
     "output_type": "stream",
     "text": [
      "ln of conditioning number of GP covariance matrix 10.9\n",
      "selected point from acq func: [1. 0. 0. 0.] acq val=log(Utility/Cost)= -1.1022\n",
      "[original scale] x=[1. 0. 0.] t=200 current y=31.49, ybest=356.07\n"
     ]
    },
    {
     "name": "stderr",
     "output_type": "stream",
     "text": [
      "\r",
      " 10%|████████                                                                        | 4/40 [10:39<1:35:55, 159.87s/it]"
     ]
    },
    {
     "name": "stdout",
     "output_type": "stream",
     "text": [
      "ln of conditioning number of GP covariance matrix 10.9\n",
      "selected point from acq func: [0.7366 1.     0.     0.    ] acq val=log(Utility/Cost)= -1.4914\n",
      "[original scale] x=[0.9473 0.01   0.    ] t=200 current y=33.80, ybest=356.07\n"
     ]
    },
    {
     "name": "stderr",
     "output_type": "stream",
     "text": [
      "\r",
      " 12%|██████████                                                                      | 5/40 [13:20<1:33:28, 160.25s/it]"
     ]
    },
    {
     "name": "stdout",
     "output_type": "stream",
     "text": [
      "ln of conditioning number of GP covariance matrix 10.9\n",
      "==estimated lengthscale_x=0.3000 lengthscale_t=0.600 Logistic midpoint=-0.7 Logistic growth=1.0\n",
      "selected point from acq func: [0.     1.     0.2346 0.6348] acq val=log(Utility/Cost)= -1.4779\n",
      "Max #augmented points 6 \t #augmented points  0 \t Augmented points:  []\n",
      "[original scale] x=[0.8    0.01   0.0023] t=390 current y=279.99, ybest=356.07\n"
     ]
    },
    {
     "name": "stderr",
     "output_type": "stream",
     "text": [
      "\r",
      " 15%|████████████                                                                    | 6/40 [18:35<1:57:07, 206.69s/it]"
     ]
    },
    {
     "name": "stdout",
     "output_type": "stream",
     "text": [
      "ln of conditioning number of GP covariance matrix 11.5\n",
      "selected point from acq func: [0.0102 0.4185 0.2817 1.    ] acq val=log(Utility/Cost)= -1.787\n",
      "Max #augmented points 10 \t #augmented points  0 \t Augmented points:  []\n",
      "[original scale] x=[0.802  0.0042 0.0028] t=500 current y=365.68, ybest=365.68\n"
     ]
    },
    {
     "name": "stderr",
     "output_type": "stream",
     "text": [
      "\r",
      " 18%|██████████████                                                                  | 7/40 [25:10<2:24:46, 263.24s/it]"
     ]
    },
    {
     "name": "stdout",
     "output_type": "stream",
     "text": [
      "ln of conditioning number of GP covariance matrix 11.5\n",
      "selected point from acq func: [0.2024 0.1786 0.5039 1.    ] acq val=log(Utility/Cost)= -2.1327\n",
      "Max #augmented points 10 \t #augmented points  0 \t Augmented points:  []\n",
      "[original scale] x=[0.8405 0.0018 0.005 ] t=500 current y=333.72, ybest=365.68\n"
     ]
    },
    {
     "name": "stderr",
     "output_type": "stream",
     "text": [
      "\r",
      " 20%|████████████████                                                                | 8/40 [31:47<2:41:47, 303.37s/it]"
     ]
    },
    {
     "name": "stdout",
     "output_type": "stream",
     "text": [
      "ln of conditioning number of GP covariance matrix 11.5\n",
      "selected point from acq func: [0. 0. 0. 0.] acq val=log(Utility/Cost)= -1.9581\n",
      "[original scale] x=[0.8 0.  0. ] t=200 current y=59.40, ybest=365.68\n"
     ]
    },
    {
     "name": "stderr",
     "output_type": "stream",
     "text": [
      "\r",
      " 22%|██████████████████                                                              | 9/40 [34:28<2:14:42, 260.72s/it]"
     ]
    },
    {
     "name": "stdout",
     "output_type": "stream",
     "text": [
      "ln of conditioning number of GP covariance matrix 11.5\n",
      "selected point from acq func: [1. 1. 1. 0.] acq val=log(Utility/Cost)= -2.2485\n",
      "[original scale] x=[1.   0.01 0.01] t=200 current y=49.90, ybest=365.68\n"
     ]
    },
    {
     "name": "stderr",
     "output_type": "stream",
     "text": [
      "\r",
      " 25%|███████████████████▊                                                           | 10/40 [37:10<1:55:25, 230.86s/it]"
     ]
    },
    {
     "name": "stdout",
     "output_type": "stream",
     "text": [
      "ln of conditioning number of GP covariance matrix 11.5\n",
      "selected point from acq func: [0.     0.5735 0.     1.    ] acq val=log(Utility/Cost)= -2.4116\n",
      "Max #augmented points 10 \t #augmented points  0 \t Augmented points:  []\n",
      "[original scale] x=[0.8    0.0057 0.    ] t=500 current y=361.14, ybest=365.68\n"
     ]
    },
    {
     "name": "stderr",
     "output_type": "stream",
     "text": [
      "\r",
      " 28%|█████████████████████▋                                                         | 11/40 [43:47<2:15:39, 280.68s/it]"
     ]
    },
    {
     "name": "stdout",
     "output_type": "stream",
     "text": [
      "ln of conditioning number of GP covariance matrix 11.5\n",
      "selected point from acq func: [0. 1. 1. 0.] acq val=log(Utility/Cost)= -2.376\n",
      "[original scale] x=[0.8  0.01 0.01] t=200 current y=59.58, ybest=365.68\n"
     ]
    },
    {
     "name": "stderr",
     "output_type": "stream",
     "text": [
      "\r",
      " 30%|███████████████████████▋                                                       | 12/40 [46:28<1:54:18, 244.94s/it]"
     ]
    },
    {
     "name": "stdout",
     "output_type": "stream",
     "text": [
      "ln of conditioning number of GP covariance matrix 11.5\n",
      "selected point from acq func: [1. 0. 1. 0.] acq val=log(Utility/Cost)= -2.5266\n",
      "[original scale] x=[1.   0.   0.01] t=200 current y=51.64, ybest=365.68\n"
     ]
    },
    {
     "name": "stderr",
     "output_type": "stream",
     "text": [
      "\r",
      " 32%|█████████████████████████▋                                                     | 13/40 [49:10<1:38:56, 219.88s/it]"
     ]
    },
    {
     "name": "stdout",
     "output_type": "stream",
     "text": [
      "ln of conditioning number of GP covariance matrix 11.5\n",
      "==estimated lengthscale_x=0.3000 lengthscale_t=0.600 Logistic midpoint=-1.0 Logistic growth=1.0\n",
      "selected point from acq func: [0.1237 0.8021 0.4294 1.    ] acq val=log(Utility/Cost)= -2.1623\n",
      "Max #augmented points 10 \t #augmented points  0 \t Augmented points:  []\n",
      "[original scale] x=[0.8247 0.008  0.0043] t=500 current y=350.82, ybest=365.68\n"
     ]
    },
    {
     "name": "stderr",
     "output_type": "stream",
     "text": [
      "\r",
      " 35%|███████████████████████████▋                                                   | 14/40 [55:55<1:59:22, 275.49s/it]"
     ]
    },
    {
     "name": "stdout",
     "output_type": "stream",
     "text": [
      "ln of conditioning number of GP covariance matrix 11.5\n",
      "selected point from acq func: [0.5875 0.0568 0.3254 1.    ] acq val=log(Utility/Cost)= -2.6692\n",
      "Max #augmented points 10 \t #augmented points  0 \t Augmented points:  []\n",
      "[original scale] x=[0.9175 0.0006 0.0033] t=500 current y=350.26, ybest=365.68\n"
     ]
    },
    {
     "name": "stderr",
     "output_type": "stream",
     "text": [
      "\r",
      " 38%|████████████████████████████▉                                                | 15/40 [1:02:32<2:09:58, 311.94s/it]"
     ]
    },
    {
     "name": "stdout",
     "output_type": "stream",
     "text": [
      "ln of conditioning number of GP covariance matrix 11.5\n",
      "selected point from acq func: [0.4613 0.     0.     1.    ] acq val=log(Utility/Cost)= -2.5997\n",
      "Max #augmented points 10 \t #augmented points  0 \t Augmented points:  []\n",
      "[original scale] x=[0.8923 0.     0.    ] t=500 current y=341.01, ybest=365.68\n"
     ]
    },
    {
     "name": "stderr",
     "output_type": "stream",
     "text": [
      "\r",
      " 40%|██████████████████████████████▊                                              | 16/40 [1:09:09<2:14:59, 337.49s/it]"
     ]
    },
    {
     "name": "stdout",
     "output_type": "stream",
     "text": [
      "ln of conditioning number of GP covariance matrix 11.5\n",
      "selected point from acq func: [0. 0. 1. 0.] acq val=log(Utility/Cost)= -2.5557\n",
      "[original scale] x=[0.8  0.   0.01] t=200 current y=79.69, ybest=365.68\n"
     ]
    },
    {
     "name": "stderr",
     "output_type": "stream",
     "text": [
      "\r",
      " 42%|████████████████████████████████▋                                            | 17/40 [1:11:51<1:49:12, 284.91s/it]"
     ]
    },
    {
     "name": "stdout",
     "output_type": "stream",
     "text": [
      "ln of conditioning number of GP covariance matrix 11.5\n",
      "selected point from acq func: [0.3236 0.2336 0.2473 1.    ] acq val=log(Utility/Cost)= -2.6678\n",
      "Max #augmented points 10 \t #augmented points  6 \t Augmented points:  [0.    0.144 0.342 0.526 0.714 0.872]\n",
      "[original scale] x=[0.8647 0.0023 0.0025] t=462 current y=343.60, ybest=365.68\n"
     ]
    },
    {
     "name": "stderr",
     "output_type": "stream",
     "text": [
      "\r",
      " 45%|██████████████████████████████████▋                                          | 18/40 [1:18:32<1:57:14, 319.75s/it]"
     ]
    },
    {
     "name": "stdout",
     "output_type": "stream",
     "text": [
      "ln of conditioning number of GP covariance matrix 11.7\n",
      "selected point from acq func: [0.     0.6947 0.2223 1.    ] acq val=log(Utility/Cost)= -2.6481\n",
      "Max #augmented points 10 \t #augmented points  0 \t Augmented points:  []\n",
      "[original scale] x=[0.8    0.0069 0.0022] t=500 current y=341.27, ybest=365.68\n"
     ]
    },
    {
     "name": "stderr",
     "output_type": "stream",
     "text": [
      "\r",
      " 48%|████████████████████████████████████▌                                        | 19/40 [1:25:09<2:00:02, 342.99s/it]"
     ]
    },
    {
     "name": "stdout",
     "output_type": "stream",
     "text": [
      "ln of conditioning number of GP covariance matrix 11.7\n",
      "selected point from acq func: [1.     0.2806 0.1971 1.    ] acq val=log(Utility/Cost)= -2.7357\n",
      "Max #augmented points 10 \t #augmented points  6 \t Augmented points:  [0.    0.158 0.382 0.55  0.728 0.875]\n",
      "[original scale] x=[1.     0.0028 0.002 ] t=462 current y=281.62, ybest=365.68\n"
     ]
    },
    {
     "name": "stderr",
     "output_type": "stream",
     "text": [
      "\r",
      " 50%|██████████████████████████████████████▌                                      | 20/40 [1:31:51<2:00:14, 360.72s/it]"
     ]
    },
    {
     "name": "stdout",
     "output_type": "stream",
     "text": [
      "ln of conditioning number of GP covariance matrix 11.8\n",
      "selected point from acq func: [0.     0.2809 0.     1.    ] acq val=log(Utility/Cost)= -2.4505\n",
      "Max #augmented points 10 \t #augmented points  7 \t Augmented points:  [0.    0.137 0.279 0.488 0.693 0.856 1.   ]\n",
      "[original scale] x=[0.8    0.0028 0.    ] t=500 current y=356.11, ybest=365.68\n"
     ]
    },
    {
     "name": "stderr",
     "output_type": "stream",
     "text": [
      "\r",
      " 52%|████████████████████████████████████████▍                                    | 21/40 [1:38:33<1:58:05, 372.93s/it]"
     ]
    },
    {
     "name": "stdout",
     "output_type": "stream",
     "text": [
      "ln of conditioning number of GP covariance matrix 11.9\n",
      "selected point from acq func: [0.3205 1.     0.4707 1.    ] acq val=log(Utility/Cost)= -2.7284\n",
      "Max #augmented points 10 \t #augmented points  0 \t Augmented points:  []\n",
      "[original scale] x=[0.8641 0.01   0.0047] t=500 current y=356.95, ybest=365.68\n"
     ]
    },
    {
     "name": "stderr",
     "output_type": "stream",
     "text": [
      "\r",
      " 55%|██████████████████████████████████████████▎                                  | 22/40 [1:45:11<1:54:06, 380.34s/it]"
     ]
    },
    {
     "name": "stdout",
     "output_type": "stream",
     "text": [
      "ln of conditioning number of GP covariance matrix 11.9\n",
      "selected point from acq func: [0.3393 0.7222 0.8764 1.    ] acq val=log(Utility/Cost)= -2.8521\n",
      "Max #augmented points 10 \t #augmented points  7 \t Augmented points:  [0.    0.132 0.246 0.47  0.684 0.855 1.   ]\n",
      "[original scale] x=[0.8679 0.0072 0.0088] t=500 current y=349.16, ybest=365.68\n"
     ]
    },
    {
     "name": "stderr",
     "output_type": "stream",
     "text": [
      "\r",
      " 57%|████████████████████████████████████████████▎                                | 23/40 [1:51:52<1:49:33, 386.67s/it]"
     ]
    },
    {
     "name": "stdout",
     "output_type": "stream",
     "text": [
      "ln of conditioning number of GP covariance matrix 11.9\n",
      "selected point from acq func: [0.0888 1.     0.8742 1.    ] acq val=log(Utility/Cost)= -2.8899\n",
      "Max #augmented points 10 \t #augmented points  6 \t Augmented points:  [0.    0.177 0.442 0.576 0.75  0.872]\n",
      "[original scale] x=[0.8178 0.01   0.0087] t=462 current y=347.10, ybest=367.56\n"
     ]
    },
    {
     "name": "stderr",
     "output_type": "stream",
     "text": [
      "\r",
      " 60%|██████████████████████████████████████████████▏                              | 24/40 [1:58:33<1:44:14, 390.93s/it]"
     ]
    },
    {
     "name": "stdout",
     "output_type": "stream",
     "text": [
      "ln of conditioning number of GP covariance matrix 11.9\n",
      "selected point from acq func: [0.     0.6875 0.9573 1.    ] acq val=log(Utility/Cost)= -2.6059\n",
      "Max #augmented points 10 \t #augmented points  0 \t Augmented points:  []\n",
      "[original scale] x=[0.8    0.0069 0.0096] t=500 current y=366.84, ybest=367.56\n"
     ]
    },
    {
     "name": "stderr",
     "output_type": "stream",
     "text": [
      "\r",
      " 62%|████████████████████████████████████████████████▏                            | 25/40 [2:05:10<1:38:12, 392.86s/it]"
     ]
    },
    {
     "name": "stdout",
     "output_type": "stream",
     "text": [
      "ln of conditioning number of GP covariance matrix 11.9\n",
      "selected point from acq func: [0.1062 0.7897 0.7954 1.    ] acq val=log(Utility/Cost)= -2.927\n",
      "Max #augmented points 10 \t #augmented points  0 \t Augmented points:  []\n",
      "[original scale] x=[0.8212 0.0079 0.008 ] t=500 current y=358.81, ybest=367.56\n"
     ]
    },
    {
     "name": "stderr",
     "output_type": "stream",
     "text": [
      "\r",
      " 65%|██████████████████████████████████████████████████                           | 26/40 [2:11:47<1:31:56, 394.03s/it]"
     ]
    },
    {
     "name": "stdout",
     "output_type": "stream",
     "text": [
      "ln of conditioning number of GP covariance matrix 11.9\n",
      "selected point from acq func: [0.     0.8921 1.     1.    ] acq val=log(Utility/Cost)= -2.6519\n",
      "Max #augmented points 10 \t #augmented points  6 \t Augmented points:  [0.    0.168 0.408 0.567 0.737 0.872]\n",
      "[original scale] x=[0.8    0.0089 0.01  ] t=462 current y=348.21, ybest=369.50\n"
     ]
    },
    {
     "name": "stderr",
     "output_type": "stream",
     "text": [
      "\r",
      " 68%|███████████████████████████████████████████████████▉                         | 27/40 [2:18:30<1:25:56, 396.66s/it]"
     ]
    },
    {
     "name": "stdout",
     "output_type": "stream",
     "text": [
      "ln of conditioning number of GP covariance matrix 12.0\n",
      "selected point from acq func: [0.2653 1.     1.     1.    ] acq val=log(Utility/Cost)= -2.6832\n",
      "Max #augmented points 10 \t #augmented points  0 \t Augmented points:  []\n",
      "[original scale] x=[0.8531 0.01   0.01  ] t=500 current y=367.01, ybest=369.50\n"
     ]
    },
    {
     "name": "stderr",
     "output_type": "stream",
     "text": [
      "\r",
      " 70%|█████████████████████████████████████████████████████▉                       | 28/40 [2:25:07<1:19:20, 396.75s/it]"
     ]
    },
    {
     "name": "stdout",
     "output_type": "stream",
     "text": [
      "ln of conditioning number of GP covariance matrix 12.0\n",
      "selected point from acq func: [1.     0.     0.6047 1.    ] acq val=log(Utility/Cost)= -3.1325\n",
      "Max #augmented points 10 \t #augmented points  0 \t Augmented points:  []\n",
      "[original scale] x=[1.    0.    0.006] t=500 current y=298.33, ybest=369.50\n"
     ]
    },
    {
     "name": "stderr",
     "output_type": "stream",
     "text": [
      "\r",
      " 72%|███████████████████████████████████████████████████████▊                     | 29/40 [2:31:44<1:12:45, 396.90s/it]"
     ]
    },
    {
     "name": "stdout",
     "output_type": "stream",
     "text": [
      "ln of conditioning number of GP covariance matrix 12.0\n",
      "selected point from acq func: [0.6053 0.216  1.     1.    ] acq val=log(Utility/Cost)= -3.2418\n",
      "Max #augmented points 10 \t #augmented points  0 \t Augmented points:  []\n",
      "[original scale] x=[0.9211 0.0022 0.01  ] t=500 current y=319.80, ybest=369.50\n"
     ]
    },
    {
     "name": "stderr",
     "output_type": "stream",
     "text": [
      "\r",
      " 75%|█████████████████████████████████████████████████████████▊                   | 30/40 [2:38:21<1:06:08, 396.88s/it]"
     ]
    },
    {
     "name": "stdout",
     "output_type": "stream",
     "text": [
      "ln of conditioning number of GP covariance matrix 12.0\n",
      "selected point from acq func: [0.1436 0.7785 1.     1.    ] acq val=log(Utility/Cost)= -2.9266\n",
      "Max #augmented points 10 \t #augmented points  0 \t Augmented points:  []\n",
      "[original scale] x=[0.8287 0.0078 0.01  ] t=500 current y=367.47, ybest=369.50\n"
     ]
    },
    {
     "name": "stderr",
     "output_type": "stream",
     "text": [
      "\r",
      " 78%|█████████████████████████████████████████████████████████████▏                 | 31/40 [2:44:58<59:33, 397.08s/it]"
     ]
    },
    {
     "name": "stdout",
     "output_type": "stream",
     "text": [
      "ln of conditioning number of GP covariance matrix 12.0\n",
      "==estimated lengthscale_x=0.3000 lengthscale_t=0.600 Logistic midpoint=1.8 Logistic growth=0.6\n",
      "selected point from acq func: [0.0443 1.     0.5068 0.    ] acq val=log(Utility/Cost)= -0.1818\n",
      "[original scale] x=[0.8089 0.01   0.0051] t=200 current y=33.15, ybest=369.50\n"
     ]
    },
    {
     "name": "stderr",
     "output_type": "stream",
     "text": [
      "\r",
      " 80%|███████████████████████████████████████████████████████████████▏               | 32/40 [2:48:00<44:19, 332.41s/it]"
     ]
    },
    {
     "name": "stdout",
     "output_type": "stream",
     "text": [
      "ln of conditioning number of GP covariance matrix 12.0\n",
      "selected point from acq func: [0.    0.264 1.    1.   ] acq val=log(Utility/Cost)= -3.1646\n",
      "Max #augmented points 10 \t #augmented points  6 \t Augmented points:  [0.    0.159 0.385 0.552 0.729 0.874]\n",
      "[original scale] x=[0.8    0.0026 0.01  ] t=462 current y=271.24, ybest=369.50\n"
     ]
    },
    {
     "name": "stderr",
     "output_type": "stream",
     "text": [
      "\r",
      " 82%|█████████████████████████████████████████████████████████████████▏             | 33/40 [2:54:41<41:11, 353.01s/it]"
     ]
    },
    {
     "name": "stdout",
     "output_type": "stream",
     "text": [
      "ln of conditioning number of GP covariance matrix 12.1\n",
      "==estimated lengthscale_x=0.3000 lengthscale_t=0.600 Logistic midpoint=0.4 Logistic growth=0.9\n",
      "selected point from acq func: [0.     0.6374 0.6887 0.    ] acq val=log(Utility/Cost)= -0.264\n",
      "[original scale] x=[0.8    0.0064 0.0069] t=200 current y=33.33, ybest=369.50\n"
     ]
    },
    {
     "name": "stderr",
     "output_type": "stream",
     "text": [
      "\r",
      " 85%|███████████████████████████████████████████████████████████████████▏           | 34/40 [2:57:50<30:23, 303.90s/it]"
     ]
    },
    {
     "name": "stdout",
     "output_type": "stream",
     "text": [
      "ln of conditioning number of GP covariance matrix 12.1\n",
      "selected point from acq func: [0. 1. 0. 1.] acq val=log(Utility/Cost)= -3.0977\n",
      "Max #augmented points 10 \t #augmented points  6 \t Augmented points:  [0.    0.186 0.473 0.574 0.762 0.869]\n",
      "[original scale] x=[0.8  0.01 0.  ] t=461 current y=314.57, ybest=369.50\n"
     ]
    },
    {
     "name": "stderr",
     "output_type": "stream",
     "text": [
      "\r",
      " 88%|█████████████████████████████████████████████████████████████████████▏         | 35/40 [3:04:33<27:47, 333.45s/it]"
     ]
    },
    {
     "name": "stdout",
     "output_type": "stream",
     "text": [
      "ln of conditioning number of GP covariance matrix 12.1\n",
      "==estimated lengthscale_x=0.3000 lengthscale_t=0.600 Logistic midpoint=1.7 Logistic growth=0.6\n",
      "selected point from acq func: [0.2178 1.     0.1892 0.6597] acq val=log(Utility/Cost)= -2.2628\n",
      "Max #augmented points 6 \t #augmented points  0 \t Augmented points:  []\n",
      "[original scale] x=[0.8436 0.01   0.0019] t=398 current y=184.73, ybest=369.50\n"
     ]
    },
    {
     "name": "stderr",
     "output_type": "stream",
     "text": [
      "\r",
      " 90%|███████████████████████████████████████████████████████████████████████        | 36/40 [3:10:16<22:25, 336.30s/it]"
     ]
    },
    {
     "name": "stdout",
     "output_type": "stream",
     "text": [
      "ln of conditioning number of GP covariance matrix 12.1\n",
      "selected point from acq func: [0.     1.     0.4651 1.    ] acq val=log(Utility/Cost)= -2.4809\n",
      "Max #augmented points 10 \t #augmented points  6 \t Augmented points:  [0.    0.178 0.443 0.576 0.751 0.871]\n",
      "[original scale] x=[0.8    0.01   0.0047] t=461 current y=258.85, ybest=369.50\n"
     ]
    },
    {
     "name": "stderr",
     "output_type": "stream",
     "text": [
      "\r",
      " 92%|█████████████████████████████████████████████████████████████████████████      | 37/40 [3:16:56<17:46, 355.57s/it]"
     ]
    },
    {
     "name": "stdout",
     "output_type": "stream",
     "text": [
      "ln of conditioning number of GP covariance matrix 12.2\n",
      "==estimated lengthscale_x=0.3000 lengthscale_t=0.600 Logistic midpoint=0.1 Logistic growth=0.9\n",
      "selected point from acq func: [0.     0.6606 0.     0.    ] acq val=log(Utility/Cost)= -1.9632\n",
      "[original scale] x=[0.8    0.0066 0.    ] t=200 current y=37.70, ybest=369.50\n"
     ]
    },
    {
     "name": "stderr",
     "output_type": "stream",
     "text": [
      "\r",
      " 95%|███████████████████████████████████████████████████████████████████████████    | 38/40 [3:20:01<10:08, 304.39s/it]"
     ]
    },
    {
     "name": "stdout",
     "output_type": "stream",
     "text": [
      "ln of conditioning number of GP covariance matrix 12.2\n",
      "selected point from acq func: [0.3418 1.     0.7539 1.    ] acq val=log(Utility/Cost)= -2.8491\n",
      "Max #augmented points 10 \t #augmented points  0 \t Augmented points:  []\n",
      "[original scale] x=[0.8684 0.01   0.0075] t=500 current y=344.25, ybest=369.50\n"
     ]
    },
    {
     "name": "stderr",
     "output_type": "stream",
     "text": [
      "\r",
      " 98%|█████████████████████████████████████████████████████████████████████████████  | 39/40 [3:26:39<05:32, 332.40s/it]"
     ]
    },
    {
     "name": "stdout",
     "output_type": "stream",
     "text": [
      "ln of conditioning number of GP covariance matrix 12.3\n",
      "selected point from acq func: [1.     0.2869 1.     1.    ] acq val=log(Utility/Cost)= -3.8102\n",
      "Max #augmented points 10 \t #augmented points  6 \t Augmented points:  [0.    0.144 0.34  0.526 0.714 0.873]\n",
      "[original scale] x=[1.     0.0029 0.01  ] t=462 current y=260.21, ybest=369.50\n"
     ]
    },
    {
     "name": "stderr",
     "output_type": "stream",
     "text": [
      "100%|███████████████████████████████████████████████████████████████████████████████| 40/40 [3:33:20<00:00, 352.99s/it]\n"
     ]
    }
   ],
   "source": [
    "NN=10*myfunction.input_dim\n",
    "print(\"Running BOIL for {} iterations\".format(NN))\n",
    "strFolderOut=\"run_experiments\\plot\"\n",
    "\n",
    "for index in tqdm(range(0,NN)):\n",
    "    boil.suggest_nextpoint()\n"
   ]
  },
  {
   "cell_type": "markdown",
   "metadata": {},
   "source": [
    "# We evaluate the final performance score util MaxEpoch. The final utility score is marginalizing with different choices for the Logisic curve."
   ]
  },
  {
   "cell_type": "code",
   "execution_count": 8,
   "metadata": {},
   "outputs": [
    {
     "name": "stderr",
     "output_type": "stream",
     "text": [
      "100%|██████████████████████████████████████████████████████████████████████████████████████████| 49/49 [00:00<?, ?it/s]\n"
     ]
    },
    {
     "data": {
      "image/png": "[encoded data removed]",
      "text/plain": [
       "<Figure size 432x216 with 1 Axes>"
      ]
     },
     "metadata": {
      "needs_background": "light"
     },
     "output_type": "display_data"
    }
   ],
   "source": [
    "boil.Y_original=evaluating_final_util_MaxEpoch(boil)\n",
    "viz.show_optimization_progress(boil)"
   ]
  },
  {
   "cell_type": "markdown",
   "metadata": {},
   "source": [
    "# Plot the training curve of the best found hyperparameter"
   ]
  },
  {
   "cell_type": "code",
   "execution_count": 9,
   "metadata": {},
   "outputs": [
    {
     "name": "stdout",
     "output_type": "stream",
     "text": [
      "Best found hyperparameter = [0.86471518 0.00233654 0.00247385]\n"
     ]
    },
    {
     "data": {
      "text/plain": [
       "Text(0.5, 1.0, 'Training curve of best found hyperparameter')"
      ]
     },
     "execution_count": 9,
     "metadata": {},
     "output_type": "execute_result"
    },
    {
     "data": {
      "image/png": "[encoded data removed]",
      "text/plain": [
       "<Figure size 432x288 with 1 Axes>"
      ]
     },
     "metadata": {
      "needs_background": "light"
     },
     "output_type": "display_data"
    }
   ],
   "source": [
    "# select the optimal hyperparameter\n",
    "idxMax=np.argmax(boil.Y_original)\n",
    "print(\"Best found hyperparameter =\",boil.X_original[idxMax])\n",
    "\n",
    "# play the best parameter to Max Iteration\n",
    "T_max=boil.SearchSpace[-1,1]\n",
    "\n",
    "curve,time=myfunction.func([boil.X_original[idxMax,:-1],T_max])\n",
    "curve=curve[0]\n",
    "average100_curve=[np.mean( curve[max(0,n-100):n+1] )     for n in range(len(curve)) ]\n",
    "\n",
    "# plot the found curve\n",
    "fig=plt.figure()\n",
    "plt.plot(average100_curve)\n",
    "plt.xlabel('Episode',fontsize=16)\n",
    "plt.ylabel('Average Reward',fontsize=16)\n",
    "plt.title(\"Training curve of best found hyperparameter\",fontsize=18)\n"
   ]
  },
  {
   "cell_type": "markdown",
   "metadata": {},
   "source": [
    "# Play the Reacher environment using the best found hyperparameter"
   ]
  },
  {
   "cell_type": "code",
   "execution_count": 13,
   "metadata": {},
   "outputs": [
    {
     "data": {
      "text/plain": [
       "array([0.86471518, 0.00233654, 0.00247385])"
      ]
     },
     "execution_count": 13,
     "metadata": {},
     "output_type": "execute_result"
    }
   ],
   "source": [
    "boil.X_original[idxMax]"
   ]
  },
  {
   "cell_type": "markdown",
   "metadata": {},
   "source": [
    "# Plot the Conditioning number of the GP covariance matrix"
   ]
  },
  {
   "cell_type": "code",
   "execution_count": 11,
   "metadata": {},
   "outputs": [
    {
     "data": {
      "text/plain": [
       "Text(0, 0.5, 'Log of Cond Number of Cov Matrix')"
      ]
     },
     "execution_count": 11,
     "metadata": {},
     "output_type": "execute_result"
    },
    {
     "data": {
      "image/png": "[encoded data removed]",
      "text/plain": [
       "<Figure size 360x360 with 1 Axes>"
      ]
     },
     "metadata": {
      "needs_background": "light"
     },
     "output_type": "display_data"
    }
   ],
   "source": [
    "fig=plt.figure(figsize=(5,5))\n",
    "plt.plot(np.log(boil.condition_number),linewidth=4)\n",
    "plt.xlabel('Iterations',fontsize=14)\n",
    "plt.ylabel('Log of Cond Number of Cov Matrix',fontsize=14)"
   ]
  },
  {
   "cell_type": "markdown",
   "metadata": {},
   "source": [
    "# Plot the estimated preference function"
   ]
  },
  {
   "cell_type": "code",
   "execution_count": 12,
   "metadata": {},
   "outputs": [
    {
     "data": {
      "text/plain": [
       "Text(0.5, 1.0, 'Estimated Logistic Curve $m_0$=0.1 $g_0$=0.9')"
      ]
     },
     "execution_count": 12,
     "metadata": {},
     "output_type": "execute_result"
    },
    {
     "data": {
      "image/png": "[encoded data removed]",
      "text/plain": [
       "<Figure size 504x360 with 1 Axes>"
      ]
     },
     "metadata": {
      "needs_background": "light"
     },
     "output_type": "display_data"
    }
   ],
   "source": [
    "estimated_curve=return_logistic_curve(midpoint=boil.gp.logistic_hyper['midpoint'], \n",
    "                                      growth=boil.gp.logistic_hyper['growth'],\n",
    "                                      MaxEpoch=SearchSpace['maxEpisodes'][1])\n",
    "\n",
    "fig=plt.figure(figsize=(7,5))\n",
    "plt.plot(estimated_curve,linewidth=4)\n",
    "plt.xlabel('Epochs',fontsize=14)\n",
    "plt.xlabel('Epochs',fontsize=14)\n",
    "\n",
    "strTitle=\"Estimated Logistic Curve $m_0$={:.1f} $g_0$={:.1f}\".format(boil.gp.logistic_hyper['midpoint'],boil.gp.logistic_hyper['growth'])\n",
    "plt.title(strTitle,fontsize=16)"
   ]
  }
 ],
 "metadata": {
  "kernelspec": {
   "display_name": "Python 3",
   "language": "python",
   "name": "python3"
  },
  "language_info": {
   "codemirror_mode": {
    "name": "ipython",
    "version": 3
   },
   "file_extension": ".py",
   "mimetype": "text/x-python",
   "name": "python",
   "nbconvert_exporter": "python",
   "pygments_lexer": "ipython3",
   "version": "3.6.8"
  }
 },
 "nbformat": 4,
 "nbformat_minor": 2
}
