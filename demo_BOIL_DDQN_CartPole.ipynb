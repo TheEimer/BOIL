{
 "cells": [
  {
   "cell_type": "code",
   "execution_count": 1,
   "metadata": {},
   "outputs": [
    {
     "name": "stderr",
     "output_type": "stream",
     "text": [
      "WARNING: Logging before flag parsing goes to stderr.\n",
      "W1120 09:55:02.629916  7088 deprecation.py:323] From C:\\Users\\Vu\\Anaconda3\\envs\\tfgpu\\lib\\site-packages\\tensorflow\\python\\compat\\v2_compat.py:96: disable_resource_variables (from tensorflow.python.ops.variable_scope) is deprecated and will be removed in a future version.\n",
      "Instructions for updating:\n",
      "non-resource variables are not supported in the long term\n"
     ]
    }
   ],
   "source": [
    "from collections import OrderedDict\n",
    "\n",
    "import numpy as np\n",
    "import matplotlib.pyplot as plt\n",
    "\n",
    "import bayes_opt.visualization.visualization_utility_cost as viz\n",
    "from bayes_opt.test_functions import drl_experiments\n",
    "from bayes_opt.utility.basic_utility_functions import evaluating_final_util_MaxEpoch,set_seed\n",
    "from bayes_opt.sequentialBO.boil import BOIL\n",
    "from bayes_opt.curve_compression import return_logistic_curve\n",
    "\n",
    "from tqdm import tqdm\n",
    "import warnings\n",
    "\n",
    "warnings.filterwarnings(\"ignore\")\n"
   ]
  },
  {
   "cell_type": "markdown",
   "metadata": {},
   "source": [
    "# Specifying the search space"
   ]
  },
  {
   "cell_type": "code",
   "execution_count": 2,
   "metadata": {},
   "outputs": [],
   "source": [
    "SearchSpace = OrderedDict([('gamma',(0.8,1)), ('alpha', (1e-6,1e-2)), ('maxEpisodes',(200, 500))])\n",
    "\n",
    "\n",
    "varParams = list(SearchSpace.keys())"
   ]
  },
  {
   "cell_type": "markdown",
   "metadata": {},
   "source": [
    "# These are the fixed hyperparamters for Dueling DQN"
   ]
  },
  {
   "cell_type": "code",
   "execution_count": 3,
   "metadata": {},
   "outputs": [],
   "source": [
    "fixedParams = OrderedDict([\n",
    "        (\"DDQN\", True),\n",
    "        (\"Duelling\", True),\n",
    "        (\"buffer_size\", 5000),\n",
    "        (\"batch_sz\", 64),\n",
    "        (\"maxSteps\", 200),\n",
    "        (\"PER\", 0),\n",
    "        (\"alpha\", 1.0),\n",
    "        (\"update_rate\", 1),\n",
    "        (\"architecture\", [50,50]),\n",
    "        (\"maxExp\", 10000),\n",
    "        (\"eps_0\", 1.0),\n",
    "        (\"eps_final\", 0.05),\n",
    "        (\"beta_time\", 1000),\n",
    "        (\"beta_0\", 0.6),\n",
    "        (\"beta_final\", 1.0)])\n"
   ]
  },
  {
   "cell_type": "markdown",
   "metadata": {},
   "source": [
    "# Initializing the DDQN on CartPole-v0 environment"
   ]
  },
  {
   "cell_type": "code",
   "execution_count": 4,
   "metadata": {},
   "outputs": [],
   "source": [
    "myfunction=drl_experiments.DRL_experiment(\"DQN\", \"CartPole-v0\", varParams, fixedParams, SearchSpace)\n"
   ]
  },
  {
   "cell_type": "markdown",
   "metadata": {},
   "source": [
    "# Initializing BOIL class"
   ]
  },
  {
   "cell_type": "code",
   "execution_count": 5,
   "metadata": {},
   "outputs": [],
   "source": [
    "acq_name='ei_mu_max'\n",
    "\n",
    "func_params={}\n",
    "func_params['function']=myfunction\n",
    "\n",
    "boil=BOIL(myfunction.func,myfunction.bounds,acq_name=acq_name,verbose=1)"
   ]
  },
  {
   "cell_type": "markdown",
   "metadata": {},
   "source": [
    "# Initializing BOIL with 3*[no_of_hyperparameter] points"
   ]
  },
  {
   "cell_type": "code",
   "execution_count": 6,
   "metadata": {},
   "outputs": [
    {
     "name": "stdout",
     "output_type": "stream",
     "text": [
      "initialization 9 points - please wait...\n",
      "Max #augmented points 10 \t #augmented points  8 \t Augmented points:  [0.    0.106 0.245 0.365 0.5   0.654 0.783 0.905]\n",
      "Max #augmented points 10 \t #augmented points  0 \t Augmented points:  []\n",
      "Max #augmented points 10 \t #augmented points  0 \t Augmented points:  []\n",
      "Max #augmented points 10 \t #augmented points  0 \t Augmented points:  []\n",
      "Max #augmented points 10 \t #augmented points  0 \t Augmented points:  []\n",
      "Max #augmented points 10 \t #augmented points  0 \t Augmented points:  []\n",
      "Max #augmented points 10 \t #augmented points  0 \t Augmented points:  []\n",
      "Max #augmented points 10 \t #augmented points  0 \t Augmented points:  []\n",
      "Max #augmented points 10 \t #augmented points  0 \t Augmented points:  []\n"
     ]
    }
   ],
   "source": [
    "n_init_points=3*myfunction.input_dim\n",
    "print(\"initialization {} points - please wait...\".format(n_init_points))\n",
    "boil.init(n_init_points)"
   ]
  },
  {
   "cell_type": "markdown",
   "metadata": {},
   "source": [
    "# Running BOIL over multiple iterations"
   ]
  },
  {
   "cell_type": "code",
   "execution_count": 7,
   "metadata": {},
   "outputs": [
    {
     "name": "stdout",
     "output_type": "stream",
     "text": [
      "Running BOIL for 30 iterations\n"
     ]
    },
    {
     "name": "stderr",
     "output_type": "stream",
     "text": [
      "\r",
      "  0%|                                                                                           | 0/30 [00:00<?, ?it/s]"
     ]
    },
    {
     "name": "stdout",
     "output_type": "stream",
     "text": [
      "ln of conditioning number of GP covariance matrix 9.2\n",
      "selected point from acq func: [0.9098 0.9144 0.3778] acq val=log(Utility/Cost)= -0.4069\n",
      "Max #augmented points 3 \t #augmented points  0 \t Augmented points:  []\n",
      "[original scale] x=[0.982  0.0091] t=313 current y=18.51, ybest=133.64\n"
     ]
    },
    {
     "name": "stderr",
     "output_type": "stream",
     "text": [
      "\r",
      "  3%|██▋                                                                             | 1/30 [03:06<1:30:06, 186.43s/it]"
     ]
    },
    {
     "name": "stdout",
     "output_type": "stream",
     "text": [
      "ln of conditioning number of GP covariance matrix 9.2\n",
      "==estimated lengthscale_x=0.1573   lengthscale_t=0.528   Logistic_m0=1.8   Logistic_g0=0.9\n",
      "selected point from acq func: [0.3374 0.0072 0.015 ] acq val=log(Utility/Cost)= -0.4384\n",
      "[original scale] x=[0.8675 0.0001] t=205 current y=4.40, ybest=133.64\n"
     ]
    },
    {
     "name": "stderr",
     "output_type": "stream",
     "text": [
      "\r",
      "  7%|█████▎                                                                          | 2/30 [07:09<1:34:52, 203.30s/it]"
     ]
    },
    {
     "name": "stdout",
     "output_type": "stream",
     "text": [
      "ln of conditioning number of GP covariance matrix 9.6\n",
      "selected point from acq func: [1. 0. 0.] acq val=log(Utility/Cost)= -1.2676\n",
      "[original scale] x=[1. 0.] t=200 current y=0.45, ybest=133.64\n"
     ]
    },
    {
     "name": "stderr",
     "output_type": "stream",
     "text": [
      "\r",
      " 10%|████████                                                                        | 3/30 [08:12<1:12:35, 161.32s/it]"
     ]
    },
    {
     "name": "stdout",
     "output_type": "stream",
     "text": [
      "ln of conditioning number of GP covariance matrix 9.6\n",
      "selected point from acq func: [0.6873 0.651  1.    ] acq val=log(Utility/Cost)= -1.6504\n",
      "Max #augmented points 10 \t #augmented points  0 \t Augmented points:  []\n",
      "[original scale] x=[0.9375 0.0065] t=500 current y=102.43, ybest=133.64\n"
     ]
    },
    {
     "name": "stderr",
     "output_type": "stream",
     "text": [
      "\r",
      " 13%|██████████▋                                                                     | 4/30 [23:14<2:46:13, 383.58s/it]"
     ]
    },
    {
     "name": "stdout",
     "output_type": "stream",
     "text": [
      "ln of conditioning number of GP covariance matrix 9.6\n",
      "selected point from acq func: [0.0115 0.4993 1.    ] acq val=log(Utility/Cost)= -1.9528\n",
      "Max #augmented points 10 \t #augmented points  0 \t Augmented points:  []\n",
      "[original scale] x=[0.8023 0.005 ] t=500 current y=111.38, ybest=133.64\n"
     ]
    },
    {
     "name": "stderr",
     "output_type": "stream",
     "text": [
      "\r",
      " 17%|█████████████▎                                                                  | 5/30 [41:38<4:09:49, 599.59s/it]"
     ]
    },
    {
     "name": "stdout",
     "output_type": "stream",
     "text": [
      "ln of conditioning number of GP covariance matrix 9.6\n",
      "selected point from acq func: [0.507 1.    1.   ] acq val=log(Utility/Cost)= -1.8441\n",
      "Max #augmented points 10 \t #augmented points  0 \t Augmented points:  []\n",
      "[original scale] x=[0.9014 0.01  ] t=500 current y=93.26, ybest=133.64\n"
     ]
    },
    {
     "name": "stderr",
     "output_type": "stream",
     "text": [
      "\r",
      " 20%|████████████████                                                                | 6/30 [58:05<4:46:18, 715.79s/it]"
     ]
    },
    {
     "name": "stdout",
     "output_type": "stream",
     "text": [
      "ln of conditioning number of GP covariance matrix 9.7\n",
      "selected point from acq func: [0.2443 0.6069 1.    ] acq val=log(Utility/Cost)= -2.3227\n",
      "Max #augmented points 10 \t #augmented points  0 \t Augmented points:  []\n",
      "[original scale] x=[0.8489 0.0061] t=500 current y=98.82, ybest=133.64\n"
     ]
    },
    {
     "name": "stderr",
     "output_type": "stream",
     "text": [
      "\r",
      " 23%|██████████████████▏                                                           | 7/30 [1:15:14<5:10:24, 809.75s/it]"
     ]
    },
    {
     "name": "stdout",
     "output_type": "stream",
     "text": [
      "ln of conditioning number of GP covariance matrix 9.7\n",
      "==estimated lengthscale_x=0.1416   lengthscale_t=0.600   Logistic_m0=2.4   Logistic_g0=0.9\n",
      "selected point from acq func: [0.0943 0.388  0.3316] acq val=log(Utility/Cost)= -1.3436\n",
      "Max #augmented points 3 \t #augmented points  0 \t Augmented points:  []\n",
      "[original scale] x=[0.8189 0.0039] t=299 current y=16.31, ybest=133.64\n"
     ]
    },
    {
     "name": "stderr",
     "output_type": "stream",
     "text": [
      "\r",
      " 27%|████████████████████▊                                                         | 8/30 [1:24:48<4:30:59, 739.05s/it]"
     ]
    },
    {
     "name": "stdout",
     "output_type": "stream",
     "text": [
      "ln of conditioning number of GP covariance matrix 9.7\n",
      "selected point from acq func: [0. 1. 0.] acq val=log(Utility/Cost)= -2.5984\n",
      "[original scale] x=[0.8  0.01] t=200 current y=2.66, ybest=133.64\n"
     ]
    },
    {
     "name": "stderr",
     "output_type": "stream",
     "text": [
      "\r",
      " 30%|███████████████████████▍                                                      | 9/30 [1:29:18<3:29:23, 598.28s/it]"
     ]
    },
    {
     "name": "stdout",
     "output_type": "stream",
     "text": [
      "ln of conditioning number of GP covariance matrix 9.7\n",
      "selected point from acq func: [0.6002 0.2177 1.    ] acq val=log(Utility/Cost)= -2.8805\n",
      "Max #augmented points 10 \t #augmented points  0 \t Augmented points:  []\n",
      "[original scale] x=[0.92   0.0022] t=500 current y=117.25, ybest=133.64\n"
     ]
    },
    {
     "name": "stderr",
     "output_type": "stream",
     "text": [
      "\r",
      " 33%|█████████████████████████▋                                                   | 10/30 [1:45:56<3:59:27, 718.38s/it]"
     ]
    },
    {
     "name": "stdout",
     "output_type": "stream",
     "text": [
      "ln of conditioning number of GP covariance matrix 9.7\n",
      "selected point from acq func: [1. 1. 1.] acq val=log(Utility/Cost)= -2.7876\n",
      "Max #augmented points 10 \t #augmented points  0 \t Augmented points:  []\n",
      "[original scale] x=[1.   0.01] t=500 current y=10.66, ybest=133.64\n"
     ]
    },
    {
     "name": "stderr",
     "output_type": "stream",
     "text": [
      "\r",
      " 37%|████████████████████████████▏                                                | 11/30 [1:50:20<3:04:16, 581.90s/it]"
     ]
    },
    {
     "name": "stdout",
     "output_type": "stream",
     "text": [
      "ln of conditioning number of GP covariance matrix 9.7\n",
      "selected point from acq func: [0.7613 0.4048 0.0739] acq val=log(Utility/Cost)= -2.7635\n",
      "[original scale] x=[0.9523 0.004 ] t=222 current y=1.13, ybest=133.64\n"
     ]
    },
    {
     "name": "stderr",
     "output_type": "stream",
     "text": [
      "\r",
      " 40%|██████████████████████████████▊                                              | 12/30 [1:51:56<2:10:54, 436.34s/it]"
     ]
    },
    {
     "name": "stdout",
     "output_type": "stream",
     "text": [
      "ln of conditioning number of GP covariance matrix 9.7\n",
      "selected point from acq func: [0.    0.315 1.   ] acq val=log(Utility/Cost)= -2.8802\n",
      "Max #augmented points 10 \t #augmented points  0 \t Augmented points:  []\n",
      "[original scale] x=[0.8    0.0032] t=500 current y=85.50, ybest=133.64\n"
     ]
    },
    {
     "name": "stderr",
     "output_type": "stream",
     "text": [
      "\r",
      " 43%|█████████████████████████████████▎                                           | 13/30 [2:08:50<2:52:40, 609.42s/it]"
     ]
    },
    {
     "name": "stdout",
     "output_type": "stream",
     "text": [
      "ln of conditioning number of GP covariance matrix 9.8\n",
      "==estimated lengthscale_x=0.0951   lengthscale_t=0.600   Logistic_m0=-0.3   Logistic_g0=0.9\n",
      "selected point from acq func: [0.     0.6374 0.4699] acq val=log(Utility/Cost)= -1.7482\n",
      "Max #augmented points 4 \t #augmented points  0 \t Augmented points:  []\n",
      "[original scale] x=[0.8    0.0064] t=341 current y=73.96, ybest=133.64\n"
     ]
    },
    {
     "name": "stderr",
     "output_type": "stream",
     "text": [
      "\r",
      " 47%|███████████████████████████████████▉                                         | 14/30 [2:19:03<2:42:50, 610.67s/it]"
     ]
    },
    {
     "name": "stdout",
     "output_type": "stream",
     "text": [
      "ln of conditioning number of GP covariance matrix 9.6\n",
      "selected point from acq func: [0.7049 0.8723 1.    ] acq val=log(Utility/Cost)= -2.3979\n",
      "Max #augmented points 10 \t #augmented points  0 \t Augmented points:  []\n",
      "[original scale] x=[0.941  0.0087] t=500 current y=115.99, ybest=133.64\n"
     ]
    },
    {
     "name": "stderr",
     "output_type": "stream",
     "text": [
      "\r",
      " 50%|██████████████████████████████████████▌                                      | 15/30 [2:32:50<2:48:53, 675.56s/it]"
     ]
    },
    {
     "name": "stdout",
     "output_type": "stream",
     "text": [
      "ln of conditioning number of GP covariance matrix 9.7\n",
      "selected point from acq func: [0.     0.7582 1.    ] acq val=log(Utility/Cost)= -2.9447\n",
      "Max #augmented points 10 \t #augmented points  0 \t Augmented points:  []\n",
      "[original scale] x=[0.8    0.0076] t=500 current y=110.13, ybest=133.64\n"
     ]
    },
    {
     "name": "stderr",
     "output_type": "stream",
     "text": [
      "\r",
      " 53%|█████████████████████████████████████████                                    | 16/30 [2:49:33<3:00:30, 773.62s/it]"
     ]
    },
    {
     "name": "stdout",
     "output_type": "stream",
     "text": [
      "ln of conditioning number of GP covariance matrix 9.7\n",
      "selected point from acq func: [0.2426 0.2755 1.    ] acq val=log(Utility/Cost)= -3.1265\n",
      "Max #augmented points 10 \t #augmented points  0 \t Augmented points:  []\n",
      "[original scale] x=[0.8485 0.0028] t=500 current y=135.33, ybest=135.33\n"
     ]
    },
    {
     "name": "stderr",
     "output_type": "stream",
     "text": [
      "\r",
      " 57%|███████████████████████████████████████████▋                                 | 17/30 [3:08:00<3:09:18, 873.73s/it]"
     ]
    },
    {
     "name": "stdout",
     "output_type": "stream",
     "text": [
      "ln of conditioning number of GP covariance matrix 9.7\n",
      "selected point from acq func: [0.9644 0.688  0.9767] acq val=log(Utility/Cost)= -3.1521\n",
      "Max #augmented points 9 \t #augmented points  0 \t Augmented points:  []\n",
      "[original scale] x=[0.9929 0.0069] t=493 current y=83.74, ybest=135.33\n"
     ]
    },
    {
     "name": "stderr",
     "output_type": "stream",
     "text": [
      "\r",
      " 60%|██████████████████████████████████████████████▏                              | 18/30 [3:19:44<2:44:34, 822.86s/it]"
     ]
    },
    {
     "name": "stdout",
     "output_type": "stream",
     "text": [
      "ln of conditioning number of GP covariance matrix 9.7\n",
      "selected point from acq func: [0.368  0.8534 1.    ] acq val=log(Utility/Cost)= -3.3247\n",
      "Max #augmented points 10 \t #augmented points  0 \t Augmented points:  []\n",
      "[original scale] x=[0.8736 0.0085] t=500 current y=125.45, ybest=135.33\n"
     ]
    },
    {
     "name": "stderr",
     "output_type": "stream",
     "text": [
      "\r",
      " 63%|████████████████████████████████████████████████▊                            | 19/30 [3:35:07<2:36:22, 852.97s/it]"
     ]
    },
    {
     "name": "stdout",
     "output_type": "stream",
     "text": [
      "ln of conditioning number of GP covariance matrix 9.7\n",
      "==estimated lengthscale_x=0.1021   lengthscale_t=0.600   Logistic_m0=-0.6   Logistic_g0=0.8\n",
      "selected point from acq func: [0.3519 1.     0.4582] acq val=log(Utility/Cost)= -2.0243\n",
      "Max #augmented points 4 \t #augmented points  0 \t Augmented points:  []\n",
      "[original scale] x=[0.8704 0.01  ] t=337 current y=77.32, ybest=135.33\n"
     ]
    },
    {
     "name": "stderr",
     "output_type": "stream",
     "text": [
      "\r",
      " 67%|███████████████████████████████████████████████████▎                         | 20/30 [3:43:45<2:05:24, 752.46s/it]"
     ]
    },
    {
     "name": "stdout",
     "output_type": "stream",
     "text": [
      "ln of conditioning number of GP covariance matrix 9.8\n",
      "selected point from acq func: [0. 1. 1.] acq val=log(Utility/Cost)= -3.8121\n",
      "Max #augmented points 10 \t #augmented points  4 \t Augmented points:  [0.    0.229 0.5   0.795]\n",
      "[original scale] x=[0.8  0.01] t=439 current y=109.32, ybest=135.33\n"
     ]
    },
    {
     "name": "stderr",
     "output_type": "stream",
     "text": [
      "\r",
      " 70%|█████████████████████████████████████████████████████▉                       | 21/30 [3:59:41<2:02:00, 813.39s/it]"
     ]
    },
    {
     "name": "stdout",
     "output_type": "stream",
     "text": [
      "ln of conditioning number of GP covariance matrix 9.8\n",
      "==estimated lengthscale_x=0.0969   lengthscale_t=0.518   Logistic_m0=-0.1   Logistic_g0=1.0\n",
      "selected point from acq func: [0.     0.1858 0.    ] acq val=log(Utility/Cost)= -1.8944\n",
      "[original scale] x=[0.8    0.0019] t=200 current y=13.94, ybest=135.33\n"
     ]
    },
    {
     "name": "stderr",
     "output_type": "stream",
     "text": [
      "\r",
      " 73%|████████████████████████████████████████████████████████▍                    | 22/30 [4:04:00<1:26:16, 647.07s/it]"
     ]
    },
    {
     "name": "stdout",
     "output_type": "stream",
     "text": [
      "ln of conditioning number of GP covariance matrix 9.7\n",
      "selected point from acq func: [0.085 0.    1.   ] acq val=log(Utility/Cost)= -3.8164\n",
      "Max #augmented points 10 \t #augmented points  6 \t Augmented points:  [0.    0.16  0.372 0.532 0.721 0.859]\n",
      "[original scale] x=[0.817 0.   ] t=458 current y=123.01, ybest=135.33\n"
     ]
    },
    {
     "name": "stderr",
     "output_type": "stream",
     "text": [
      "\r",
      " 77%|███████████████████████████████████████████████████████████                  | 23/30 [4:26:44<1:40:36, 862.34s/it]"
     ]
    },
    {
     "name": "stdout",
     "output_type": "stream",
     "text": [
      "ln of conditioning number of GP covariance matrix 9.7\n",
      "selected point from acq func: [0. 0. 1.] acq val=log(Utility/Cost)= -3.6444\n",
      "Max #augmented points 10 \t #augmented points  5 \t Augmented points:  [0.    0.24  0.448 0.666 0.841]\n",
      "[original scale] x=[0.8 0. ] t=452 current y=123.74, ybest=135.82\n"
     ]
    },
    {
     "name": "stderr",
     "output_type": "stream",
     "text": [
      "\r",
      " 80%|████████████████████████████████████████████████████████████▊               | 24/30 [4:51:02<1:44:05, 1040.97s/it]"
     ]
    },
    {
     "name": "stdout",
     "output_type": "stream",
     "text": [
      "ln of conditioning number of GP covariance matrix 9.9\n",
      "selected point from acq func: [0.5879 0.331  0.7633] acq val=log(Utility/Cost)= -4.0192\n",
      "Max #augmented points 7 \t #augmented points  0 \t Augmented points:  []\n",
      "[original scale] x=[0.9176 0.0033] t=429 current y=115.04, ybest=135.82\n"
     ]
    },
    {
     "name": "stderr",
     "output_type": "stream",
     "text": [
      "\r",
      " 83%|████████████████████████████████████████████████████████████████▏            | 25/30 [5:05:24<1:22:15, 987.12s/it]"
     ]
    },
    {
     "name": "stdout",
     "output_type": "stream",
     "text": [
      "ln of conditioning number of GP covariance matrix 9.9\n",
      "selected point from acq func: [0.6228 1.     0.    ] acq val=log(Utility/Cost)= -4.035\n",
      "[original scale] x=[0.9246 0.01  ] t=200 current y=13.64, ybest=135.82\n"
     ]
    },
    {
     "name": "stderr",
     "output_type": "stream",
     "text": [
      "\r",
      " 87%|████████████████████████████████████████████████████████████████████▍          | 26/30 [5:09:21<50:48, 762.13s/it]"
     ]
    },
    {
     "name": "stdout",
     "output_type": "stream",
     "text": [
      "ln of conditioning number of GP covariance matrix 9.9\n",
      "selected point from acq func: [0.2075 1.     1.    ] acq val=log(Utility/Cost)= -3.3646\n",
      "Max #augmented points 10 \t #augmented points  0 \t Augmented points:  []\n",
      "[original scale] x=[0.8415 0.01  ] t=500 current y=118.38, ybest=135.82\n"
     ]
    },
    {
     "name": "stderr",
     "output_type": "stream",
     "text": [
      "\r",
      " 90%|███████████████████████████████████████████████████████████████████████        | 27/30 [5:25:16<40:59, 819.91s/it]"
     ]
    },
    {
     "name": "stdout",
     "output_type": "stream",
     "text": [
      "ln of conditioning number of GP covariance matrix 9.9\n",
      "selected point from acq func: [0.7413 0.     1.    ] acq val=log(Utility/Cost)= -4.1979\n",
      "Max #augmented points 10 \t #augmented points  0 \t Augmented points:  []\n",
      "[original scale] x=[0.9483 0.    ] t=500 current y=129.77, ybest=135.82\n"
     ]
    },
    {
     "name": "stderr",
     "output_type": "stream",
     "text": [
      "\r",
      " 93%|█████████████████████████████████████████████████████████████████████████▋     | 28/30 [5:41:13<28:42, 861.31s/it]"
     ]
    },
    {
     "name": "stdout",
     "output_type": "stream",
     "text": [
      "ln of conditioning number of GP covariance matrix 9.9\n",
      "==estimated lengthscale_x=0.1114   lengthscale_t=0.584   Logistic_m0=-0.1   Logistic_g0=1.0\n",
      "selected point from acq func: [0.3138 0.3294 0.5518] acq val=log(Utility/Cost)= -1.3049\n",
      "Max #augmented points 5 \t #augmented points  0 \t Augmented points:  []\n",
      "[original scale] x=[0.8628 0.0033] t=366 current y=86.51, ybest=135.82\n"
     ]
    },
    {
     "name": "stderr",
     "output_type": "stream",
     "text": [
      "\r",
      " 97%|████████████████████████████████████████████████████████████████████████████▎  | 29/30 [5:51:58<13:16, 796.23s/it]"
     ]
    },
    {
     "name": "stdout",
     "output_type": "stream",
     "text": [
      "ln of conditioning number of GP covariance matrix 10.0\n",
      "selected point from acq func: [0.6914 0.     0.737 ] acq val=log(Utility/Cost)= -3.6127\n",
      "Max #augmented points 7 \t #augmented points  0 \t Augmented points:  []\n",
      "[original scale] x=[0.9383 0.    ] t=421 current y=108.39, ybest=135.82\n"
     ]
    },
    {
     "name": "stderr",
     "output_type": "stream",
     "text": [
      "100%|███████████████████████████████████████████████████████████████████████████████| 30/30 [6:04:47<00:00, 788.02s/it]\n"
     ]
    }
   ],
   "source": [
    "NN=10*myfunction.input_dim\n",
    "print(\"Running BOIL for {} iterations\".format(NN))\n",
    "strFolderOut=\"run_experiments\\plot\"\n",
    "\n",
    "for index in tqdm(range(0,NN)):\n",
    "    boil.suggest_nextpoint()\n"
   ]
  },
  {
   "cell_type": "markdown",
   "metadata": {},
   "source": [
    "# We evaluate the final performance score util MaxEpoch. The final utility score is marginalizing with different choices for the Logisic curve."
   ]
  },
  {
   "cell_type": "code",
   "execution_count": 8,
   "metadata": {},
   "outputs": [
    {
     "name": "stderr",
     "output_type": "stream",
     "text": [
      "100%|██████████████████████████████████████████████████████████████████████████████████████████| 38/38 [00:00<?, ?it/s]\n"
     ]
    },
    {
     "data": {
      "image/png": "[encoded data removed]",
      "text/plain": [
       "<Figure size 432x216 with 1 Axes>"
      ]
     },
     "metadata": {
      "needs_background": "light"
     },
     "output_type": "display_data"
    }
   ],
   "source": [
    "boil.Y_original=evaluating_final_util_MaxEpoch(boil)\n",
    "viz.show_optimization_progress(boil)"
   ]
  },
  {
   "cell_type": "markdown",
   "metadata": {},
   "source": [
    "# Plot the training curve of the best found hyperparameter"
   ]
  },
  {
   "cell_type": "code",
   "execution_count": 9,
   "metadata": {},
   "outputs": [
    {
     "name": "stdout",
     "output_type": "stream",
     "text": [
      "Best found hyperparameter = [0.8        0.00758193]\n"
     ]
    },
    {
     "data": {
      "text/plain": [
       "Text(0.5, 1.0, 'Training curve of best found hyperparameter')"
      ]
     },
     "execution_count": 9,
     "metadata": {},
     "output_type": "execute_result"
    },
    {
     "data": {
      "image/png": "[encoded data removed]",
      "text/plain": [
       "<Figure size 432x288 with 1 Axes>"
      ]
     },
     "metadata": {
      "needs_background": "light"
     },
     "output_type": "display_data"
    }
   ],
   "source": [
    "# select the optimal hyperparameter\n",
    "idxMax=np.argmax(boil.Y_original)\n",
    "print(\"Best found hyperparameter =\",boil.X_original[idxMax])\n",
    "\n",
    "# play the best parameter to Max Iteration\n",
    "T_max=boil.SearchSpace[-1,1]\n",
    "\n",
    "curve,time=myfunction.func([boil.X_original[idxMax,:-1],T_max])\n",
    "curve=curve[0]\n",
    "average100_curve=[np.mean( curve[max(0,n-100):n+1] )     for n in range(len(curve)) ]\n",
    "\n",
    "# plot the found curve\n",
    "fig=plt.figure()\n",
    "plt.plot(average100_curve)\n",
    "plt.xlabel('Episode',fontsize=16)\n",
    "plt.ylabel('Average Reward',fontsize=16)\n",
    "plt.title(\"Training curve of best found hyperparameter\",fontsize=18)\n"
   ]
  },
  {
   "cell_type": "markdown",
   "metadata": {},
   "source": [
    "# Play the CartPole environment using the best found hyperparameter"
   ]
  },
  {
   "cell_type": "code",
   "execution_count": 10,
   "metadata": {},
   "outputs": [
    {
     "data": {
      "text/plain": [
       "array([0.8       , 0.00758193])"
      ]
     },
     "execution_count": 10,
     "metadata": {},
     "output_type": "execute_result"
    }
   ],
   "source": [
    "myfunction.evaluate(boil.X_original[idxMax], display=True)"
   ]
  },
  {
   "cell_type": "markdown",
   "metadata": {},
   "source": [
    "# Plot the Conditioning number of the GP covariance matrix"
   ]
  },
  {
   "cell_type": "code",
   "execution_count": 11,
   "metadata": {},
   "outputs": [
    {
     "data": {
      "text/plain": [
       "Text(0, 0.5, 'Log of Cond Number of Cov Matrix')"
      ]
     },
     "execution_count": 11,
     "metadata": {},
     "output_type": "execute_result"
    },
    {
     "data": {
      "image/png": "[encoded data removed]",
      "text/plain": [
       "<Figure size 360x360 with 1 Axes>"
      ]
     },
     "metadata": {
      "needs_background": "light"
     },
     "output_type": "display_data"
    }
   ],
   "source": [
    "fig=plt.figure(figsize=(5,5))\n",
    "plt.plot(np.log(boil.condition_number),linewidth=4)\n",
    "plt.xlabel('Iterations',fontsize=14)\n",
    "plt.ylabel('Log of Cond Number of Cov Matrix',fontsize=14)"
   ]
  },
  {
   "cell_type": "markdown",
   "metadata": {},
   "source": [
    "# Plot the estimated preference function"
   ]
  },
  {
   "cell_type": "code",
   "execution_count": 12,
   "metadata": {},
   "outputs": [
    {
     "data": {
      "text/plain": [
       "Text(0.5, 1.0, 'Estimated Logistic Curve $m_0$=-0.1 $g_0$=1.0')"
      ]
     },
     "execution_count": 12,
     "metadata": {},
     "output_type": "execute_result"
    },
    {
     "data": {
      "image/png": "[encoded data removed]",
      "text/plain": [
       "<Figure size 504x360 with 1 Axes>"
      ]
     },
     "metadata": {
      "needs_background": "light"
     },
     "output_type": "display_data"
    }
   ],
   "source": [
    "estimated_curve=return_logistic_curve(midpoint=boil.gp.logistic_hyper['midpoint'], \n",
    "                                      growth=boil.gp.logistic_hyper['growth'],\n",
    "                                      MaxEpoch=SearchSpace['maxEpisodes'][1])\n",
    "\n",
    "fig=plt.figure(figsize=(7,5))\n",
    "plt.plot(estimated_curve,linewidth=4)\n",
    "plt.xlabel('Epochs',fontsize=14)\n",
    "plt.xlabel('Epochs',fontsize=14)\n",
    "\n",
    "strTitle=\"Estimated Logistic Curve $m_0$={:.1f} $g_0$={:.1f}\".format(boil.gp.logistic_hyper['midpoint'],boil.gp.logistic_hyper['growth'])\n",
    "plt.title(strTitle,fontsize=16)"
   ]
  }
 ],
 "metadata": {
  "kernelspec": {
   "display_name": "Python 3",
   "language": "python",
   "name": "python3"
  },
  "language_info": {
   "codemirror_mode": {
    "name": "ipython",
    "version": 3
   },
   "file_extension": ".py",
   "mimetype": "text/x-python",
   "name": "python",
   "nbconvert_exporter": "python",
   "pygments_lexer": "ipython3",
   "version": "3.6.8"
  }
 },
 "nbformat": 4,
 "nbformat_minor": 2
}