{
 "cells": [
  {
   "cell_type": "code",
   "execution_count": 1,
   "metadata": {},
   "outputs": [
    {
     "name": "stderr",
     "output_type": "stream",
     "text": [
      "WARNING: Logging before flag parsing goes to stderr.\n",
      "W1116 16:26:25.371580  6316 deprecation.py:323] From C:\\Users\\Vu\\Anaconda3\\envs\\tfgpu\\lib\\site-packages\\tensorflow\\python\\compat\\v2_compat.py:96: disable_resource_variables (from tensorflow.python.ops.variable_scope) is deprecated and will be removed in a future version.\n",
      "Instructions for updating:\n",
      "non-resource variables are not supported in the long term\n"
     ]
    }
   ],
   "source": [
    "from collections import OrderedDict\n",
    "\n",
    "import numpy as np\n",
    "import matplotlib.pyplot as plt\n",
    "\n",
    "import bayes_opt.visualization.visualization_utility_cost as viz\n",
    "from bayes_opt.test_functions import drl_experiments\n",
    "from bayes_opt.utility.basic_utility_functions import evaluating_final_util_MaxEpoch,set_seed\n",
    "from bayes_opt.sequentialBO.boil import BOIL\n",
    "from bayes_opt.curve_compression import return_logistic_curve\n",
    "\n",
    "from tqdm import tqdm\n",
    "import warnings\n",
    "\n",
    "warnings.filterwarnings(\"ignore\")\n",
    "\n",
    "set_seed(1337)\n"
   ]
  },
  {
   "cell_type": "markdown",
   "metadata": {},
   "source": [
    "# Specifying the search space"
   ]
  },
  {
   "cell_type": "code",
   "execution_count": 2,
   "metadata": {},
   "outputs": [],
   "source": [
    "SearchSpace = OrderedDict([('gamma',(0.8,1)), ('alpha', (1e-6,1e-2)), ('maxEpisodes',(200, 500))])\n",
    "\n",
    "\n",
    "varParams = list(SearchSpace.keys())"
   ]
  },
  {
   "cell_type": "markdown",
   "metadata": {},
   "source": [
    "# These are the fixed hyperparamters for Dueling DQN"
   ]
  },
  {
   "cell_type": "code",
   "execution_count": 3,
   "metadata": {},
   "outputs": [],
   "source": [
    "fixedParams = OrderedDict([\n",
    "        (\"DDQN\", True),\n",
    "        (\"Duelling\", True),\n",
    "        (\"buffer_size\", 5000),\n",
    "        (\"batch_sz\", 64),\n",
    "        (\"maxSteps\", 200),\n",
    "        (\"PER\", 0),\n",
    "        (\"alpha\", 1.0),\n",
    "        (\"update_rate\", 1),\n",
    "        (\"architecture\", [50,50]),\n",
    "        (\"maxExp\", 10000),\n",
    "        (\"eps_0\", 1.0),\n",
    "        (\"eps_final\", 0.05),\n",
    "        (\"beta_time\", 1000),\n",
    "        (\"beta_0\", 0.6),\n",
    "        (\"beta_final\", 1.0)])\n"
   ]
  },
  {
   "cell_type": "markdown",
   "metadata": {},
   "source": [
    "# Initializing the DDQN on CartPole-v0 environment"
   ]
  },
  {
   "cell_type": "code",
   "execution_count": 4,
   "metadata": {},
   "outputs": [],
   "source": [
    "myfunction=drl_experiments.DRL_experiment(\"DQN\", \"CartPole-v0\", varParams, fixedParams, SearchSpace)\n"
   ]
  },
  {
   "cell_type": "markdown",
   "metadata": {},
   "source": [
    "# Initializing BOIL class"
   ]
  },
  {
   "cell_type": "code",
   "execution_count": 5,
   "metadata": {},
   "outputs": [],
   "source": [
    "acq_name='ei_mu_max'\n",
    "\n",
    "func_params={}\n",
    "func_params['function']=myfunction\n",
    "\n",
    "boil=BOIL(myfunction.func,myfunction.bounds,acq_name=acq_name,verbose=1)"
   ]
  },
  {
   "cell_type": "markdown",
   "metadata": {},
   "source": [
    "# Initializing BOIL with 3*[no_of_hyperparameter] points"
   ]
  },
  {
   "cell_type": "code",
   "execution_count": 6,
   "metadata": {},
   "outputs": [
    {
     "name": "stdout",
     "output_type": "stream",
     "text": [
      "initialization 9 points - please wait...\n",
      "Max #augmented points 10 \t #augmented points  8 \t Augmented points:  [0.    0.1   0.239 0.363 0.5   0.651 0.794 0.902]\n",
      "Max #augmented points 10 \t #augmented points  0 \t Augmented points:  []\n",
      "Max #augmented points 10 \t #augmented points  0 \t Augmented points:  []\n",
      "Max #augmented points 10 \t #augmented points  0 \t Augmented points:  []\n",
      "Max #augmented points 10 \t #augmented points  0 \t Augmented points:  []\n",
      "Max #augmented points 10 \t #augmented points  0 \t Augmented points:  []\n",
      "Max #augmented points 10 \t #augmented points  0 \t Augmented points:  []\n",
      "Max #augmented points 10 \t #augmented points  0 \t Augmented points:  []\n",
      "Max #augmented points 10 \t #augmented points  0 \t Augmented points:  []\n"
     ]
    }
   ],
   "source": [
    "n_init_points=3*myfunction.input_dim\n",
    "print(\"initialization {} points - please wait...\".format(n_init_points))\n",
    "boil.init(n_init_points)"
   ]
  },
  {
   "cell_type": "markdown",
   "metadata": {},
   "source": [
    "# Running BOIL over multiple iterations"
   ]
  },
  {
   "cell_type": "code",
   "execution_count": 7,
   "metadata": {},
   "outputs": [
    {
     "name": "stdout",
     "output_type": "stream",
     "text": [
      "Running BOIL for 30 iterations\n"
     ]
    },
    {
     "name": "stderr",
     "output_type": "stream",
     "text": [
      "\r",
      "  0%|                                                                                           | 0/30 [00:00<?, ?it/s]"
     ]
    },
    {
     "name": "stdout",
     "output_type": "stream",
     "text": [
      "ln of conditioning number of GP covariance matrix 10.9\n",
      "selected point from acq func: [0.6422 0.3951 0.2172] acq val=log(Utility/Cost)= -0.2857\n",
      "Max #augmented points 2 \t #augmented points  0 \t Augmented points:  []\n",
      "[original scale] x=[0.9284 0.004 ] t=265 current y=27.06, ybest=133.64\n"
     ]
    },
    {
     "name": "stderr",
     "output_type": "stream",
     "text": [
      "\r",
      "  3%|██▋                                                                             | 1/30 [05:48<2:48:30, 348.65s/it]"
     ]
    },
    {
     "name": "stdout",
     "output_type": "stream",
     "text": [
      "ln of conditioning number of GP covariance matrix 10.9\n",
      "==estimated lengthscale_x=0.1401 lengthscale_t=0.574 Logistic midpoint=-0.1 Logistic growth=1.1\n",
      "selected point from acq func: [1. 1. 0.] acq val=log(Utility/Cost)= -1.0836\n",
      "[original scale] x=[1.   0.01] t=200 current y=1.16, ybest=133.64\n"
     ]
    },
    {
     "name": "stderr",
     "output_type": "stream",
     "text": [
      "\r",
      "  7%|█████▎                                                                          | 2/30 [06:59<2:03:49, 265.35s/it]"
     ]
    },
    {
     "name": "stdout",
     "output_type": "stream",
     "text": [
      "ln of conditioning number of GP covariance matrix 11.2\n",
      "selected point from acq func: [1. 0. 0.] acq val=log(Utility/Cost)= -1.3557\n",
      "[original scale] x=[1. 0.] t=200 current y=1.25, ybest=133.64\n"
     ]
    },
    {
     "name": "stderr",
     "output_type": "stream",
     "text": [
      "\r",
      " 10%|████████                                                                        | 3/30 [08:02<1:32:03, 204.56s/it]"
     ]
    },
    {
     "name": "stdout",
     "output_type": "stream",
     "text": [
      "ln of conditioning number of GP covariance matrix 11.2\n",
      "selected point from acq func: [0.6868 0.6489 1.    ] acq val=log(Utility/Cost)= -1.5545\n",
      "Max #augmented points 10 \t #augmented points  0 \t Augmented points:  []\n",
      "[original scale] x=[0.9374 0.0065] t=500 current y=123.27, ybest=133.64\n"
     ]
    },
    {
     "name": "stderr",
     "output_type": "stream",
     "text": [
      "\r",
      " 13%|██████████▋                                                                     | 4/30 [23:34<3:03:16, 422.93s/it]"
     ]
    },
    {
     "name": "stdout",
     "output_type": "stream",
     "text": [
      "ln of conditioning number of GP covariance matrix 11.2\n",
      "selected point from acq func: [0.     0.4202 0.653 ] acq val=log(Utility/Cost)= -1.8393\n",
      "Max #augmented points 6 \t #augmented points  0 \t Augmented points:  []\n",
      "[original scale] x=[0.8    0.0042] t=396 current y=95.58, ybest=133.64\n"
     ]
    },
    {
     "name": "stderr",
     "output_type": "stream",
     "text": [
      "\r",
      " 17%|█████████████▎                                                                  | 5/30 [36:10<3:37:49, 522.76s/it]"
     ]
    },
    {
     "name": "stdout",
     "output_type": "stream",
     "text": [
      "ln of conditioning number of GP covariance matrix 11.2\n",
      "selected point from acq func: [0.159 0.    0.   ] acq val=log(Utility/Cost)= -1.9099\n",
      "[original scale] x=[0.8318 0.    ] t=200 current y=10.72, ybest=133.64\n"
     ]
    },
    {
     "name": "stderr",
     "output_type": "stream",
     "text": [
      "\r",
      " 20%|████████████████                                                                | 6/30 [40:01<2:54:02, 435.11s/it]"
     ]
    },
    {
     "name": "stdout",
     "output_type": "stream",
     "text": [
      "ln of conditioning number of GP covariance matrix 11.2\n",
      "selected point from acq func: [0.5247 1.     1.    ] acq val=log(Utility/Cost)= -2.0663\n",
      "Max #augmented points 10 \t #augmented points  0 \t Augmented points:  []\n",
      "[original scale] x=[0.9049 0.01  ] t=500 current y=135.37, ybest=135.37\n"
     ]
    },
    {
     "name": "stderr",
     "output_type": "stream",
     "text": [
      "\r",
      " 23%|██████████████████▋                                                             | 7/30 [57:56<4:00:26, 627.23s/it]"
     ]
    },
    {
     "name": "stdout",
     "output_type": "stream",
     "text": [
      "ln of conditioning number of GP covariance matrix 11.3\n",
      "==estimated lengthscale_x=0.1974 lengthscale_t=0.513 Logistic midpoint=1.6 Logistic growth=0.8\n",
      "selected point from acq func: [0.2532 1.     0.4093] acq val=log(Utility/Cost)= -1.9549\n",
      "Max #augmented points 4 \t #augmented points  0 \t Augmented points:  []\n",
      "[original scale] x=[0.8506 0.01  ] t=323 current y=38.96, ybest=135.37\n"
     ]
    },
    {
     "name": "stderr",
     "output_type": "stream",
     "text": [
      "\r",
      " 27%|████████████████████▊                                                         | 8/30 [1:08:25<3:50:08, 627.67s/it]"
     ]
    },
    {
     "name": "stdout",
     "output_type": "stream",
     "text": [
      "ln of conditioning number of GP covariance matrix 11.4\n",
      "selected point from acq func: [0.     0.4463 1.    ] acq val=log(Utility/Cost)= -2.2505\n",
      "Max #augmented points 10 \t #augmented points  0 \t Augmented points:  []\n",
      "[original scale] x=[0.8    0.0045] t=500 current y=95.18, ybest=135.37\n"
     ]
    },
    {
     "name": "stderr",
     "output_type": "stream",
     "text": [
      "\r",
      " 30%|███████████████████████▍                                                      | 9/30 [1:24:48<4:17:02, 734.39s/it]"
     ]
    },
    {
     "name": "stdout",
     "output_type": "stream",
     "text": [
      "ln of conditioning number of GP covariance matrix 11.4\n",
      "selected point from acq func: [0.2222 0.3144 0.7916] acq val=log(Utility/Cost)= -3.3731\n",
      "Max #augmented points 7 \t #augmented points  0 \t Augmented points:  []\n",
      "[original scale] x=[0.8444 0.0031] t=437 current y=82.53, ybest=135.37\n"
     ]
    },
    {
     "name": "stderr",
     "output_type": "stream",
     "text": [
      "\r",
      " 33%|█████████████████████████▋                                                   | 10/30 [1:39:21<4:18:40, 776.05s/it]"
     ]
    },
    {
     "name": "stdout",
     "output_type": "stream",
     "text": [
      "ln of conditioning number of GP covariance matrix 11.4\n",
      "selected point from acq func: [0.3895 1.     1.    ] acq val=log(Utility/Cost)= -2.794\n",
      "Max #augmented points 10 \t #augmented points  0 \t Augmented points:  []\n",
      "[original scale] x=[0.8779 0.01  ] t=500 current y=122.20, ybest=135.37\n"
     ]
    },
    {
     "name": "stderr",
     "output_type": "stream",
     "text": [
      "\r",
      " 37%|████████████████████████████▏                                                | 11/30 [1:58:34<4:41:30, 888.97s/it]"
     ]
    },
    {
     "name": "stdout",
     "output_type": "stream",
     "text": [
      "ln of conditioning number of GP covariance matrix 11.4\n",
      "selected point from acq func: [0.     0.5439 0.    ] acq val=log(Utility/Cost)= -3.07\n",
      "[original scale] x=[0.8    0.0054] t=200 current y=5.67, ybest=135.37\n"
     ]
    },
    {
     "name": "stderr",
     "output_type": "stream",
     "text": [
      "\r",
      " 40%|██████████████████████████████▊                                              | 12/30 [2:02:52<3:29:52, 699.57s/it]"
     ]
    },
    {
     "name": "stdout",
     "output_type": "stream",
     "text": [
      "ln of conditioning number of GP covariance matrix 11.5\n",
      "selected point from acq func: [0.677 1.    0.79 ] acq val=log(Utility/Cost)= -2.9243\n",
      "Max #augmented points 7 \t #augmented points  0 \t Augmented points:  []\n",
      "[original scale] x=[0.9354 0.01  ] t=437 current y=79.00, ybest=135.37\n"
     ]
    },
    {
     "name": "stderr",
     "output_type": "stream",
     "text": [
      "\r",
      " 43%|█████████████████████████████████▎                                           | 13/30 [2:15:44<3:24:24, 721.44s/it]"
     ]
    },
    {
     "name": "stdout",
     "output_type": "stream",
     "text": [
      "ln of conditioning number of GP covariance matrix 11.5\n",
      "==estimated lengthscale_x=0.1773 lengthscale_t=0.493 Logistic midpoint=1.4 Logistic growth=0.8\n",
      "selected point from acq func: [0.     1.     0.3838] acq val=log(Utility/Cost)= -2.195\n",
      "Max #augmented points 3 \t #augmented points  0 \t Augmented points:  []\n",
      "[original scale] x=[0.8  0.01] t=315 current y=35.93, ybest=135.37\n"
     ]
    },
    {
     "name": "stderr",
     "output_type": "stream",
     "text": [
      "\r",
      " 47%|███████████████████████████████████▉                                         | 14/30 [2:25:47<3:02:55, 685.98s/it]"
     ]
    },
    {
     "name": "stdout",
     "output_type": "stream",
     "text": [
      "ln of conditioning number of GP covariance matrix 11.4\n",
      "selected point from acq func: [0.1312 0.6895 0.7434] acq val=log(Utility/Cost)= -4.398\n",
      "Max #augmented points 7 \t #augmented points  0 \t Augmented points:  []\n",
      "[original scale] x=[0.8262 0.0069] t=423 current y=85.43, ybest=135.37\n"
     ]
    },
    {
     "name": "stderr",
     "output_type": "stream",
     "text": [
      "\r",
      " 50%|██████████████████████████████████████▌                                      | 15/30 [2:40:52<3:07:51, 751.46s/it]"
     ]
    },
    {
     "name": "stdout",
     "output_type": "stream",
     "text": [
      "ln of conditioning number of GP covariance matrix 11.5\n",
      "selected point from acq func: [0.5892 0.9009 1.    ] acq val=log(Utility/Cost)= -2.9235\n",
      "Max #augmented points 10 \t #augmented points  0 \t Augmented points:  []\n",
      "[original scale] x=[0.9178 0.009 ] t=500 current y=119.05, ybest=135.37\n"
     ]
    },
    {
     "name": "stderr",
     "output_type": "stream",
     "text": [
      "\r",
      " 53%|█████████████████████████████████████████                                    | 16/30 [2:57:24<3:12:10, 823.64s/it]"
     ]
    },
    {
     "name": "stdout",
     "output_type": "stream",
     "text": [
      "ln of conditioning number of GP covariance matrix 11.5\n",
      "selected point from acq func: [0.2897 0.5025 1.    ] acq val=log(Utility/Cost)= -3.389\n",
      "Max #augmented points 10 \t #augmented points  0 \t Augmented points:  []\n",
      "[original scale] x=[0.8579 0.005 ] t=500 current y=125.59, ybest=135.37\n"
     ]
    },
    {
     "name": "stderr",
     "output_type": "stream",
     "text": [
      "\r",
      " 57%|███████████████████████████████████████████▋                                 | 17/30 [3:16:06<3:17:54, 913.41s/it]"
     ]
    },
    {
     "name": "stdout",
     "output_type": "stream",
     "text": [
      "ln of conditioning number of GP covariance matrix 11.6\n",
      "selected point from acq func: [1.     0.5374 0.    ] acq val=log(Utility/Cost)= -4.0002\n",
      "[original scale] x=[1.     0.0054] t=200 current y=0.72, ybest=135.37\n"
     ]
    },
    {
     "name": "stderr",
     "output_type": "stream",
     "text": [
      "\r",
      " 60%|██████████████████████████████████████████████▏                              | 18/30 [3:17:10<2:11:43, 658.59s/it]"
     ]
    },
    {
     "name": "stdout",
     "output_type": "stream",
     "text": [
      "ln of conditioning number of GP covariance matrix 11.6\n",
      "selected point from acq func: [1. 1. 1.] acq val=log(Utility/Cost)= -4.3503\n",
      "Max #augmented points 10 \t #augmented points  8 \t Augmented points:  [0.    0.115 0.19  0.343 0.483 0.625 0.762 0.888]\n",
      "[original scale] x=[1.   0.01] t=466 current y=7.81, ybest=135.37\n"
     ]
    },
    {
     "name": "stderr",
     "output_type": "stream",
     "text": [
      "\r",
      " 63%|████████████████████████████████████████████████▊                            | 19/30 [3:19:21<1:31:42, 500.21s/it]"
     ]
    },
    {
     "name": "stdout",
     "output_type": "stream",
     "text": [
      "ln of conditioning number of GP covariance matrix 11.6\n",
      "selected point from acq func: [0.9221 0.6823 1.    ] acq val=log(Utility/Cost)= -1.8025\n",
      "Max #augmented points 10 \t #augmented points  6 \t Augmented points:  [0.    0.179 0.446 0.604 0.748 0.885]\n",
      "[original scale] x=[0.9844 0.0068] t=465 current y=59.34, ybest=135.37\n"
     ]
    },
    {
     "name": "stderr",
     "output_type": "stream",
     "text": [
      "\r",
      " 67%|███████████████████████████████████████████████████▎                         | 20/30 [3:27:50<1:23:48, 502.84s/it]"
     ]
    },
    {
     "name": "stdout",
     "output_type": "stream",
     "text": [
      "ln of conditioning number of GP covariance matrix 11.7\n",
      "selected point from acq func: [0.6708 1.     1.    ] acq val=log(Utility/Cost)= -0.8841\n",
      "Max #augmented points 10 \t #augmented points  0 \t Augmented points:  []\n",
      "[original scale] x=[0.9342 0.01  ] t=500 current y=101.76, ybest=135.37\n"
     ]
    },
    {
     "name": "stderr",
     "output_type": "stream",
     "text": [
      "\r",
      " 70%|█████████████████████████████████████████████████████▉                       | 21/30 [3:42:17<1:31:47, 611.96s/it]"
     ]
    },
    {
     "name": "stdout",
     "output_type": "stream",
     "text": [
      "ln of conditioning number of GP covariance matrix 11.8\n",
      "selected point from acq func: [0.7707 0.024  1.    ] acq val=log(Utility/Cost)= -2.1332\n",
      "Max #augmented points 10 \t #augmented points  6 \t Augmented points:  [0.    0.167 0.407 0.583 0.733 0.884]\n",
      "[original scale] x=[0.9541 0.0002] t=465 current y=84.81, ybest=135.37\n"
     ]
    },
    {
     "name": "stderr",
     "output_type": "stream",
     "text": [
      "\r",
      " 73%|████████████████████████████████████████████████████████▍                    | 22/30 [3:54:58<1:27:34, 656.76s/it]"
     ]
    },
    {
     "name": "stdout",
     "output_type": "stream",
     "text": [
      "ln of conditioning number of GP covariance matrix 11.8\n",
      "selected point from acq func: [0.     0.8393 1.    ] acq val=log(Utility/Cost)= -2.9365\n",
      "Max #augmented points 10 \t #augmented points  0 \t Augmented points:  []\n",
      "[original scale] x=[0.8    0.0084] t=500 current y=125.40, ybest=135.37\n"
     ]
    },
    {
     "name": "stderr",
     "output_type": "stream",
     "text": [
      "\r",
      " 77%|███████████████████████████████████████████████████████████                  | 23/30 [4:14:33<1:34:46, 812.34s/it]"
     ]
    },
    {
     "name": "stdout",
     "output_type": "stream",
     "text": [
      "ln of conditioning number of GP covariance matrix 11.8\n",
      "==estimated lengthscale_x=0.1088 lengthscale_t=0.418 Logistic midpoint=-3.0 Logistic growth=0.5\n",
      "selected point from acq func: [0.4197 1.     0.7143] acq val=log(Utility/Cost)= -2.1619\n",
      "Max #augmented points 7 \t #augmented points  0 \t Augmented points:  []\n",
      "[original scale] x=[0.8839 0.01  ] t=414 current y=113.77, ybest=135.37\n"
     ]
    },
    {
     "name": "stderr",
     "output_type": "stream",
     "text": [
      "\r",
      " 80%|█████████████████████████████████████████████████████████████▌               | 24/30 [4:29:36<1:23:55, 839.31s/it]"
     ]
    },
    {
     "name": "stdout",
     "output_type": "stream",
     "text": [
      "ln of conditioning number of GP covariance matrix 11.5\n",
      "selected point from acq func: [0.6076 0.1979 1.    ] acq val=log(Utility/Cost)= -3.358\n",
      "Max #augmented points 10 \t #augmented points  0 \t Augmented points:  []\n",
      "[original scale] x=[0.9215 0.002 ] t=500 current y=122.54, ybest=135.37\n"
     ]
    },
    {
     "name": "stderr",
     "output_type": "stream",
     "text": [
      "\r",
      " 83%|████████████████████████████████████████████████████████████████▏            | 25/30 [4:47:12<1:15:22, 904.42s/it]"
     ]
    },
    {
     "name": "stdout",
     "output_type": "stream",
     "text": [
      "ln of conditioning number of GP covariance matrix 11.5\n",
      "selected point from acq func: [0.5354 0.     1.    ] acq val=log(Utility/Cost)= -3.5184\n",
      "Max #augmented points 10 \t #augmented points  0 \t Augmented points:  []\n",
      "[original scale] x=[0.9071 0.    ] t=500 current y=119.09, ybest=135.37\n"
     ]
    },
    {
     "name": "stderr",
     "output_type": "stream",
     "text": [
      "\r",
      " 87%|██████████████████████████████████████████████████████████████████▋          | 26/30 [5:04:19<1:02:45, 941.35s/it]"
     ]
    },
    {
     "name": "stdout",
     "output_type": "stream",
     "text": [
      "ln of conditioning number of GP covariance matrix 11.5\n",
      "selected point from acq func: [0.     0.9905 1.    ] acq val=log(Utility/Cost)= -3.5946\n",
      "Max #augmented points 10 \t #augmented points  0 \t Augmented points:  []\n",
      "[original scale] x=[0.8    0.0099] t=500 current y=118.13, ybest=135.37\n"
     ]
    },
    {
     "name": "stderr",
     "output_type": "stream",
     "text": [
      "\r",
      " 90%|███████████████████████████████████████████████████████████████████████        | 27/30 [5:21:44<48:36, 972.29s/it]"
     ]
    },
    {
     "name": "stdout",
     "output_type": "stream",
     "text": [
      "ln of conditioning number of GP covariance matrix 11.5\n",
      "selected point from acq func: [0. 0. 1.] acq val=log(Utility/Cost)= -4.2566\n",
      "Max #augmented points 10 \t #augmented points  7 \t Augmented points:  [0.    0.12  0.17  0.411 0.592 0.731 0.887]\n",
      "[original scale] x=[0.8 0. ] t=466 current y=117.38, ybest=135.37\n"
     ]
    },
    {
     "name": "stderr",
     "output_type": "stream",
     "text": [
      "\r",
      " 93%|████████████████████████████████████████████████████████████████████████▊     | 28/30 [5:39:29<33:20, 1000.24s/it]"
     ]
    },
    {
     "name": "stdout",
     "output_type": "stream",
     "text": [
      "ln of conditioning number of GP covariance matrix 11.5\n",
      "==estimated lengthscale_x=0.1126 lengthscale_t=0.469 Logistic midpoint=-1.5 Logistic growth=0.6\n",
      "selected point from acq func: [0.     0.8183 0.7312] acq val=log(Utility/Cost)= -2.5156\n",
      "Max #augmented points 7 \t #augmented points  0 \t Augmented points:  []\n",
      "[original scale] x=[0.8    0.0082] t=419 current y=113.09, ybest=135.37\n"
     ]
    },
    {
     "name": "stderr",
     "output_type": "stream",
     "text": [
      "\r",
      " 97%|████████████████████████████████████████████████████████████████████████████▎  | 29/30 [5:54:29<16:10, 970.05s/it]"
     ]
    },
    {
     "name": "stdout",
     "output_type": "stream",
     "text": [
      "ln of conditioning number of GP covariance matrix 11.5\n",
      "selected point from acq func: [0.     0.2093 1.    ] acq val=log(Utility/Cost)= -3.5856\n",
      "Max #augmented points 10 \t #augmented points  0 \t Augmented points:  []\n",
      "[original scale] x=[0.8    0.0021] t=500 current y=119.64, ybest=135.37\n"
     ]
    },
    {
     "name": "stderr",
     "output_type": "stream",
     "text": [
      "100%|███████████████████████████████████████████████████████████████████████████████| 30/30 [6:12:02<00:00, 995.05s/it]\n"
     ]
    }
   ],
   "source": [
    "NN=10*myfunction.input_dim\n",
    "print(\"Running BOIL for {} iterations\".format(NN))\n",
    "strFolderOut=\"run_experiments\\plot\"\n",
    "\n",
    "for index in tqdm(range(0,NN)):\n",
    "    boil.suggest_nextpoint()\n"
   ]
  },
  {
   "cell_type": "markdown",
   "metadata": {},
   "source": [
    "# We evaluate the final performance score util MaxEpoch. The final utility score is marginalizing with different choices for the Logisic curve."
   ]
  },
  {
   "cell_type": "code",
   "execution_count": 8,
   "metadata": {},
   "outputs": [
    {
     "name": "stderr",
     "output_type": "stream",
     "text": [
      "100%|██████████████████████████████████████████████████████████████████████████████████████████| 38/38 [00:00<?, ?it/s]\n"
     ]
    },
    {
     "data": {
      "image/png": "[encoded data removed]",
      "text/plain": [
       "<Figure size 432x216 with 1 Axes>"
      ]
     },
     "metadata": {
      "needs_background": "light"
     },
     "output_type": "display_data"
    }
   ],
   "source": [
    "boil.Y_original=evaluating_final_util_MaxEpoch(boil)\n",
    "viz.show_optimization_progress(boil)"
   ]
  },
  {
   "cell_type": "markdown",
   "metadata": {},
   "source": [
    "# Plot the training curve of the best found hyperparameter"
   ]
  },
  {
   "cell_type": "code",
   "execution_count": 9,
   "metadata": {},
   "outputs": [
    {
     "name": "stdout",
     "output_type": "stream",
     "text": [
      "Best found hyperparameter = [0.826237   0.00689534]\n"
     ]
    },
    {
     "data": {
      "text/plain": [
       "Text(0.5, 1.0, 'Training curve of best found hyperparameter')"
      ]
     },
     "execution_count": 9,
     "metadata": {},
     "output_type": "execute_result"
    },
    {
     "data": {
      "image/png": "[encoded data removed]",
      "text/plain": [
       "<Figure size 432x288 with 1 Axes>"
      ]
     },
     "metadata": {
      "needs_background": "light"
     },
     "output_type": "display_data"
    }
   ],
   "source": [
    "# select the optimal hyperparameter\n",
    "idxMax=np.argmax(boil.Y_original)\n",
    "print(\"Best found hyperparameter =\",boil.X_original[idxMax])\n",
    "\n",
    "# play the best parameter to Max Iteration\n",
    "T_max=boil.SearchSpace[-1,1]\n",
    "\n",
    "curve,time=myfunction.func([boil.X_original[idxMax,:-1],T_max])\n",
    "curve=curve[0]\n",
    "average100_curve=[np.mean( curve[max(0,n-100):n+1] )     for n in range(len(curve)) ]\n",
    "\n",
    "# plot the found curve\n",
    "fig=plt.figure()\n",
    "plt.plot(average100_curve)\n",
    "plt.xlabel('Episode',fontsize=16)\n",
    "plt.ylabel('Average Reward',fontsize=16)\n",
    "plt.title(\"Training curve of best found hyperparameter\",fontsize=18)\n"
   ]
  },
  {
   "cell_type": "markdown",
   "metadata": {},
   "source": [
    "# Play the CartPole environment using the best found hyperparameter"
   ]
  },
  {
   "cell_type": "code",
   "execution_count": 13,
   "metadata": {},
   "outputs": [
    {
     "data": {
      "text/plain": [
       "array([0.826237  , 0.00689534])"
      ]
     },
     "execution_count": 13,
     "metadata": {},
     "output_type": "execute_result"
    }
   ],
   "source": [
    "boil.X_original[idxMax]"
   ]
  },
  {
   "cell_type": "markdown",
   "metadata": {},
   "source": [
    "# Plot the Conditioning number of the GP covariance matrix"
   ]
  },
  {
   "cell_type": "code",
   "execution_count": 11,
   "metadata": {},
   "outputs": [
    {
     "data": {
      "text/plain": [
       "Text(0, 0.5, 'Log of Cond Number of Cov Matrix')"
      ]
     },
     "execution_count": 11,
     "metadata": {},
     "output_type": "execute_result"
    },
    {
     "data": {
      "image/png": "[encoded data removed]",
      "text/plain": [
       "<Figure size 360x360 with 1 Axes>"
      ]
     },
     "metadata": {
      "needs_background": "light"
     },
     "output_type": "display_data"
    }
   ],
   "source": [
    "fig=plt.figure(figsize=(5,5))\n",
    "plt.plot(np.log(boil.condition_number),linewidth=4)\n",
    "plt.xlabel('Iterations',fontsize=14)\n",
    "plt.ylabel('Log of Cond Number of Cov Matrix',fontsize=14)"
   ]
  },
  {
   "cell_type": "markdown",
   "metadata": {},
   "source": [
    "# Plot the estimated preference function"
   ]
  },
  {
   "cell_type": "code",
   "execution_count": 12,
   "metadata": {},
   "outputs": [
    {
     "data": {
      "text/plain": [
       "Text(0.5, 1.0, 'Estimated Logistic Curve $m_0$=-1.5 $g_0$=0.6')"
      ]
     },
     "execution_count": 12,
     "metadata": {},
     "output_type": "execute_result"
    },
    {
     "data": {
      "image/png": "[encoded data removed]",
      "text/plain": [
       "<Figure size 504x360 with 1 Axes>"
      ]
     },
     "metadata": {
      "needs_background": "light"
     },
     "output_type": "display_data"
    }
   ],
   "source": [
    "estimated_curve=return_logistic_curve(midpoint=boil.gp.logistic_hyper['midpoint'], \n",
    "                                      growth=boil.gp.logistic_hyper['growth'],\n",
    "                                      MaxEpoch=SearchSpace['maxEpisodes'][1])\n",
    "\n",
    "fig=plt.figure(figsize=(7,5))\n",
    "plt.plot(estimated_curve,linewidth=4)\n",
    "plt.xlabel('Epochs',fontsize=14)\n",
    "plt.xlabel('Epochs',fontsize=14)\n",
    "\n",
    "strTitle=\"Estimated Logistic Curve $m_0$={:.1f} $g_0$={:.1f}\".format(boil.gp.logistic_hyper['midpoint'],boil.gp.logistic_hyper['growth'])\n",
    "plt.title(strTitle,fontsize=16)"
   ]
  }
 ],
 "metadata": {
  "kernelspec": {
   "display_name": "Python 3",
   "language": "python",
   "name": "python3"
  },
  "language_info": {
   "codemirror_mode": {
    "name": "ipython",
    "version": 3
   },
   "file_extension": ".py",
   "mimetype": "text/x-python",
   "name": "python",
   "nbconvert_exporter": "python",
   "pygments_lexer": "ipython3",
   "version": "3.6.8"
  }
 },
 "nbformat": 4,
 "nbformat_minor": 2
}
